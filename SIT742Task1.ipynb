{
 "cells": [
  
  {
   "cell_type": "markdown",
   "metadata": {
    "id": "1X7L24t43CoU"
   },
   "source": [
    "# Part I - Web Log Data\n",
    "\n",
    "## Overview\n",
    "\n",
    "Hotel TULIP a five-star hotel located at Deakin University, and its CIO Dr Bear Guts has asked the Team-SIT742 team to analyse the weblogs files. As an employee for Hotel Tulip, working in the Information Technology Division, it is required to prepare a set of documentation for Team-SIT742 to allow them to understand the data being dealt with. Throughout this report, some source codes are to explore the weblog, which afterwards the information is presented to Dr Bear Guts in the format of a report.\n",
    "\n",
    "In this part, you are required to use give dataset to finish some required analysis, with the exploreation data analytics skills as well as visuilization skill.\n",
    "\n",
    "\n",
    "You will be required to complete the coding to answer the questions with a neat and clean format, and you must keep outputs for code. Your commenting and adherence to code standards will also be considered when marking. Further information on Python standards, please visit https://www.python.org/dev/peps/pep-0008/ \n",
    "\n",
    "\n",
    "**Note**: You are not necessary to stick to the partial code provided, and you can write your own code to implement the required tasks. But you should provide sufficient comments.\n"
   ]
  },
  {
   "cell_type": "markdown",
   "metadata": {
    "id": "r85LNibZkSUZ"
   },
   "source": [
    "\n",
    "\n",
    "## 1.  Data ETL"
   ]
  },
  {
   "cell_type": "markdown",
   "metadata": {
    "id": "HtL_9QR27_Iu"
   },
   "source": [
    "### 1.1 Data Loading"
   ]
  },
  {
   "cell_type": "code",
   "execution_count": 79,
   "metadata": {
    "id": "19EhpLspkSUZ"
   },
   "outputs": [],
   "source": [
    "import matplotlib.pyplot as plt\n",
    "import numpy as np\n",
    "import os\n",
    "import pandas as pd\n",
    "import time\n",
    "import datetime\n",
    "from scipy import stats\n",
    "import matplotlib\n",
    "import time\n",
    "import datetime\n",
    "import sys\n",
    "matplotlib.use('Agg')\n",
    "import datetime\n",
    "from datetime import datetime\n"
   ]
  },
  {
   "cell_type": "markdown",
   "metadata": {
    "id": "jY2Br4cBN956"
   },
   "source": [
    " <div class=\"alert alert-block alert-info\">\n",
    "\n",
    "**Code**: \n",
    "    You are required to load Hotel TULIP data into dataframe df_ht and check how many files are loaded.\n",
    "    <br>\n",
    "    *Keep the outputs for code in your notebook.\n",
    "</div>\n",
    "\n"
   ]
  },
  {
   "cell_type": "code",
   "execution_count": 2,
   "metadata": {},
   "outputs": [],
   "source": [
    "def get_data(t):\n",
    "    r = []                                 #To store data after spliting\n",
    "    for l in t:\n",
    "        d= l.split()\n",
    "        if (len(d) == 15):\n",
    "            r.append(d)\n",
    "    return r"
   ]
  },
  {
   "cell_type": "code",
   "execution_count": 4,
   "metadata": {
    "id": "IIB_xH-hOqEj"
   },
   "outputs": [
    {
     "name": "stdout",
     "output_type": "stream",
     "text": [
      "Total files are :  120\n"
     ]
    }
   ],
   "source": [
    "from zipfile import ZipFile\n",
    "data=[]\n",
    "file=\"C:\\\\Users\\\\umer\\\\Desktop\\\\modern data science\\\\HTWebLog_p1.zip\"\n",
    "with ZipFile(file, 'r') as zipp:\n",
    "    listofFile = zipp.namelist()\n",
    "    print('Total files are : ',len(listofFile))\n",
    "    for f in listofFile:\n",
    "        df = pd.read_csv(zipp.open(f), delimiter =\"\\t\", skiprows=4,encoding='iso-8859-1',na_values = '-')\n",
    "        df.columns = [\"data\"]\n",
    "        data.extend(df[\"data\"])\n"
   ]
  },
  {
   "cell_type": "code",
   "execution_count": 5,
   "metadata": {},
   "outputs": [],
   "source": [
    "rows = get_data(data)"
   ]
  },
  {
   "cell_type": "code",
   "execution_count": 6,
   "metadata": {},
   "outputs": [],
   "source": [
    "#making a dataframe\n",
    "C_Names=['date','time','s-sitename','s-ip','cs-method','cs-uri-stem','cs-uri-query','s-port','cs-username',\n",
    "             'c-ip','cs(User-Agent)','cs(Referer)','sc-status','sc-substatus','sc-win32-status'] \n",
    "#df_ht = pd.DataFrame(rows, columns = C_Names)\n",
    "#df_ht.head()\n",
    "df = pd.DataFrame(rows, columns = C_Names)\n"
   ]
  },
  {
   "cell_type": "code",
   "execution_count": 7,
   "metadata": {},
   "outputs": [],
   "source": [
    "df.to_csv('HTWebLogdata.csv',index=False)"
   ]
  },
  {
   "cell_type": "code",
   "execution_count": 2,
   "metadata": {},
   "outputs": [],
   "source": [
    "#The reaso i have created ths sepeate dataset is because i was facing issues with finding NAN values as any of function was not running on it.\n",
    "df_ht=pd.read_csv('HTWebLogdata.csv',keep_default_na=False,na_values = '-')"
   ]
  },
  {
   "cell_type": "code",
   "execution_count": 5,
   "metadata": {},
   "outputs": [
    {
     "name": "stdout",
     "output_type": "stream",
     "text": [
      "<class 'pandas.core.frame.DataFrame'>\n",
      "RangeIndex: 8438806 entries, 0 to 8438805\n",
      "Data columns (total 15 columns):\n",
      " #   Column           Dtype         \n",
      "---  ------           -----         \n",
      " 0   date             datetime64[ns]\n",
      " 1   time             datetime64[ns]\n",
      " 2   s-sitename       object        \n",
      " 3   s-ip             object        \n",
      " 4   cs-method        object        \n",
      " 5   cs-uri-stem      object        \n",
      " 6   cs-uri-query     object        \n",
      " 7   s-port           int64         \n",
      " 8   cs-username      float64       \n",
      " 9   c-ip             object        \n",
      " 10  cs(User-Agent)   object        \n",
      " 11  cs(Referer)      object        \n",
      " 12  sc-status        int64         \n",
      " 13  sc-substatus     int64         \n",
      " 14  sc-win32-status  int64         \n",
      "dtypes: datetime64[ns](2), float64(1), int64(4), object(8)\n",
      "memory usage: 965.7+ MB\n"
     ]
    }
   ],
   "source": [
    "df_ht.info()"
   ]
  },
  {
   "cell_type": "markdown",
   "metadata": {
    "id": "Dyt9lwm_QKFV"
   },
   "source": [
    " <div class=\"alert alert-block alert-info\">\n",
    "\n",
    "**Code**: \n",
    "    Check the data statistics and general information by printing its top 5 rows.\n",
    "    <br>\n",
    "    *Keep the outputs for code in your notebook.\n",
    "</div>\n",
    "\n",
    "<div class=\"alert alert-block alert-warning\">\n",
    "    \n",
    "**Report**: \n",
    "    **Part I 1.1** Please include your result for this coding task into your SIT742-DataDictionary.xlsx, then add to your report - Part I with proper section title '1.1.1' and '1.1.2'.\n",
    "</div>\n",
    "    </div>\n"
   ]
  },
  {
   "cell_type": "code",
   "execution_count": 6,
   "metadata": {
    "id": "1h7LqSGgQRUb"
   },
   "outputs": [
    {
     "data": {
      "text/plain": [
       "8438806"
      ]
     },
     "execution_count": 6,
     "metadata": {},
     "output_type": "execute_result"
    }
   ],
   "source": [
    "#len(df_ht)\n",
    "#df_ht.size\n",
    "count_row = df_ht.shape[0]\n",
    "count_row"
   ]
  },
  {
   "cell_type": "markdown",
   "metadata": {
    "id": "jDUDzs7lkSUa"
   },
   "source": [
    "### 1.2 Data Cleaning"
   ]
  },
  {
   "cell_type": "code",
   "execution_count": 8,
   "metadata": {
    "scrolled": true
   },
   "outputs": [],
   "source": [
    "def remove_Null_Values(a):\n",
    "    for col in a:\n",
    "        totalNull=df_ht[col].isna().sum()\n",
    "             \n",
    "        \n",
    "        if(totalNull):\n",
    "            print(totalNull, 'NAN values in ',col)\n",
    "            if(((totalNull/len(df_ht[col])*100))>=0.15):\n",
    "                df_ht.drop(col, axis=1, inplace=True)\n",
    "            \n",
    "        print(col,' has no Null values ')\n",
    "\n"
   ]
  },
  {
   "cell_type": "code",
   "execution_count": 9,
   "metadata": {},
   "outputs": [
    {
     "name": "stdout",
     "output_type": "stream",
     "text": [
      "date  has no Null values \n",
      "time  has no Null values \n",
      "s-sitename  has no Null values \n",
      "s-ip  has no Null values \n",
      "cs-method  has no Null values \n",
      "cs-uri-stem  has no Null values \n",
      "7886425 NAN values in  cs-uri-query\n",
      "cs-uri-query  has no Null values \n",
      "s-port  has no Null values \n",
      "8438806 NAN values in  cs-username\n",
      "cs-username  has no Null values \n",
      "c-ip  has no Null values \n",
      "3527 NAN values in  cs(User-Agent)\n",
      "cs(User-Agent)  has no Null values \n",
      "1308918 NAN values in  cs(Referer)\n",
      "cs(Referer)  has no Null values \n",
      "sc-status  has no Null values \n",
      "sc-substatus  has no Null values \n",
      "sc-win32-status  has no Null values \n"
     ]
    }
   ],
   "source": [
    "remove_Null_Values(df_ht.head(0))\n"
   ]
  },
  {
   "cell_type": "markdown",
   "metadata": {
    "id": "En0WOURqp7dB"
   },
   "source": [
    "#### Remove all NAs from data"
   ]
  },
  {
   "cell_type": "markdown",
   "metadata": {
    "id": "Efxzawa7Xdv9"
   },
   "source": [
    "\n",
    "<div class=\"alert alert-block alert-warning\">\n",
    "\n",
    "**Code**: \n",
    "    1. Check which columns have NAs, <br>\n",
    "    2. For each of those columns, display the number of NA records, <br> \n",
    "    3. emove all records with any NAs.\n",
    "    <br>\n",
    "    *Keep the outputs for code in your notebook.\n",
    "</div> \n",
    "\n",
    "<div class=\"alert alert-block alert-warning\">\n",
    "    \n",
    "**Report**: \n",
    "    **Part I 1.2** Please include your result for this coding task into your report Part I, with proper section title '1.2'.\n",
    "</div>\n",
    "    </div>\n"
   ]
  },
  {
   "cell_type": "code",
   "execution_count": 18,
   "metadata": {
    "scrolled": true
   },
   "outputs": [
    {
     "data": {
      "text/html": [
       "<div>\n",
       "<style scoped>\n",
       "    .dataframe tbody tr th:only-of-type {\n",
       "        vertical-align: middle;\n",
       "    }\n",
       "\n",
       "    .dataframe tbody tr th {\n",
       "        vertical-align: top;\n",
       "    }\n",
       "\n",
       "    .dataframe thead th {\n",
       "        text-align: right;\n",
       "    }\n",
       "</style>\n",
       "<table border=\"1\" class=\"dataframe\">\n",
       "  <thead>\n",
       "    <tr style=\"text-align: right;\">\n",
       "      <th></th>\n",
       "      <th>date</th>\n",
       "      <th>time</th>\n",
       "      <th>s-sitename</th>\n",
       "      <th>s-ip</th>\n",
       "      <th>cs-method</th>\n",
       "      <th>cs-uri-stem</th>\n",
       "      <th>s-port</th>\n",
       "      <th>c-ip</th>\n",
       "      <th>cs(User-Agent)</th>\n",
       "      <th>sc-status</th>\n",
       "      <th>sc-substatus</th>\n",
       "      <th>sc-win32-status</th>\n",
       "    </tr>\n",
       "  </thead>\n",
       "  <tbody>\n",
       "    <tr>\n",
       "      <th>0</th>\n",
       "      <td>2006-11-01</td>\n",
       "      <td>1900-01-01 00:00:08</td>\n",
       "      <td>W3SVC1</td>\n",
       "      <td>127.0.0.1</td>\n",
       "      <td>GET</td>\n",
       "      <td>/Tulip/home/en-us/home_index.aspx</td>\n",
       "      <td>80</td>\n",
       "      <td>70.80.84.76</td>\n",
       "      <td>Mozilla/4.0+(compatible;+MSIE+6.0;+Windows+NT+...</td>\n",
       "      <td>200</td>\n",
       "      <td>0</td>\n",
       "      <td>0</td>\n",
       "    </tr>\n",
       "    <tr>\n",
       "      <th>1</th>\n",
       "      <td>2006-11-01</td>\n",
       "      <td>1900-01-01 00:00:08</td>\n",
       "      <td>W3SVC1</td>\n",
       "      <td>127.0.0.1</td>\n",
       "      <td>GET</td>\n",
       "      <td>/Tulip/includes/js/CommonUtil.js</td>\n",
       "      <td>80</td>\n",
       "      <td>70.80.84.76</td>\n",
       "      <td>Mozilla/4.0+(compatible;+MSIE+6.0;+Windows+NT+...</td>\n",
       "      <td>200</td>\n",
       "      <td>0</td>\n",
       "      <td>0</td>\n",
       "    </tr>\n",
       "    <tr>\n",
       "      <th>2</th>\n",
       "      <td>2006-11-01</td>\n",
       "      <td>1900-01-01 00:00:09</td>\n",
       "      <td>W3SVC1</td>\n",
       "      <td>127.0.0.1</td>\n",
       "      <td>GET</td>\n",
       "      <td>/Tulip/common/common_style.aspx</td>\n",
       "      <td>80</td>\n",
       "      <td>70.80.84.76</td>\n",
       "      <td>Mozilla/4.0+(compatible;+MSIE+6.0;+Windows+NT+...</td>\n",
       "      <td>200</td>\n",
       "      <td>0</td>\n",
       "      <td>0</td>\n",
       "    </tr>\n",
       "    <tr>\n",
       "      <th>3</th>\n",
       "      <td>2006-11-01</td>\n",
       "      <td>1900-01-01 00:00:09</td>\n",
       "      <td>W3SVC1</td>\n",
       "      <td>127.0.0.1</td>\n",
       "      <td>GET</td>\n",
       "      <td>/Tulip/common/en-us/images/top_img.jpg</td>\n",
       "      <td>80</td>\n",
       "      <td>70.80.84.76</td>\n",
       "      <td>Mozilla/4.0+(compatible;+MSIE+6.0;+Windows+NT+...</td>\n",
       "      <td>200</td>\n",
       "      <td>0</td>\n",
       "      <td>0</td>\n",
       "    </tr>\n",
       "    <tr>\n",
       "      <th>4</th>\n",
       "      <td>2006-11-01</td>\n",
       "      <td>1900-01-01 00:00:09</td>\n",
       "      <td>W3SVC1</td>\n",
       "      <td>127.0.0.1</td>\n",
       "      <td>GET</td>\n",
       "      <td>/Tulip/common/en-us/images/top_logo.gif</td>\n",
       "      <td>80</td>\n",
       "      <td>70.80.84.76</td>\n",
       "      <td>Mozilla/4.0+(compatible;+MSIE+6.0;+Windows+NT+...</td>\n",
       "      <td>200</td>\n",
       "      <td>0</td>\n",
       "      <td>0</td>\n",
       "    </tr>\n",
       "  </tbody>\n",
       "</table>\n",
       "</div>"
      ],
      "text/plain": [
       "        date                time s-sitename       s-ip cs-method  \\\n",
       "0 2006-11-01 1900-01-01 00:00:08     W3SVC1  127.0.0.1       GET   \n",
       "1 2006-11-01 1900-01-01 00:00:08     W3SVC1  127.0.0.1       GET   \n",
       "2 2006-11-01 1900-01-01 00:00:09     W3SVC1  127.0.0.1       GET   \n",
       "3 2006-11-01 1900-01-01 00:00:09     W3SVC1  127.0.0.1       GET   \n",
       "4 2006-11-01 1900-01-01 00:00:09     W3SVC1  127.0.0.1       GET   \n",
       "\n",
       "                               cs-uri-stem  s-port         c-ip  \\\n",
       "0        /Tulip/home/en-us/home_index.aspx      80  70.80.84.76   \n",
       "1         /Tulip/includes/js/CommonUtil.js      80  70.80.84.76   \n",
       "2          /Tulip/common/common_style.aspx      80  70.80.84.76   \n",
       "3   /Tulip/common/en-us/images/top_img.jpg      80  70.80.84.76   \n",
       "4  /Tulip/common/en-us/images/top_logo.gif      80  70.80.84.76   \n",
       "\n",
       "                                      cs(User-Agent)  sc-status  sc-substatus  \\\n",
       "0  Mozilla/4.0+(compatible;+MSIE+6.0;+Windows+NT+...        200             0   \n",
       "1  Mozilla/4.0+(compatible;+MSIE+6.0;+Windows+NT+...        200             0   \n",
       "2  Mozilla/4.0+(compatible;+MSIE+6.0;+Windows+NT+...        200             0   \n",
       "3  Mozilla/4.0+(compatible;+MSIE+6.0;+Windows+NT+...        200             0   \n",
       "4  Mozilla/4.0+(compatible;+MSIE+6.0;+Windows+NT+...        200             0   \n",
       "\n",
       "   sc-win32-status  \n",
       "0                0  \n",
       "1                0  \n",
       "2                0  \n",
       "3                0  \n",
       "4                0  "
      ]
     },
     "execution_count": 18,
     "metadata": {},
     "output_type": "execute_result"
    }
   ],
   "source": [
    "df_ht.head()\n"
   ]
  },
  {
   "cell_type": "code",
   "execution_count": 28,
   "metadata": {
    "scrolled": true
   },
   "outputs": [
    {
     "data": {
      "text/plain": [
       "8438806"
      ]
     },
     "execution_count": 28,
     "metadata": {},
     "output_type": "execute_result"
    }
   ],
   "source": [
    "# eleiminate the rows if they have any NaN value\n",
    "df_ht.shape[0]\n",
    "    \n",
    "\n"
   ]
  },
  {
   "cell_type": "code",
   "execution_count": 11,
   "metadata": {},
   "outputs": [
    {
     "name": "stdout",
     "output_type": "stream",
     "text": [
      "the total rows before after removing NaN values are : 8435279\n"
     ]
    }
   ],
   "source": [
    "#deleting all the rows containing NAN value\n",
    "df_ht.dropna(axis=0, how='any', thresh=None, subset=None, inplace=True)\n",
    "print('the total rows before after removing NaN values are :',len(df_ht))\n",
    "\n"
   ]
  },
  {
   "cell_type": "code",
   "execution_count": 31,
   "metadata": {},
   "outputs": [
    {
     "name": "stdout",
     "output_type": "stream",
     "text": [
      "date  contains  0 null values\n",
      "time  contains  0 null values\n",
      "s-sitename  contains  0 null values\n",
      "s-ip  contains  0 null values\n",
      "cs-method  contains  0 null values\n",
      "cs-uri-stem  contains  0 null values\n",
      "s-port  contains  0 null values\n",
      "c-ip  contains  0 null values\n",
      "cs(User-Agent)  contains  0 null values\n",
      "sc-status  contains  0 null values\n",
      "sc-substatus  contains  0 null values\n",
      "sc-win32-status  contains  0 null values\n"
     ]
    }
   ],
   "source": [
    "for cl in df_ht.head(0):\n",
    "    s=pd.isna(df_ht[cl]).sum()\n",
    "    print(cl,' contains ',s,'null values' )"
   ]
  },
  {
   "cell_type": "markdown",
   "metadata": {
    "id": "mq3sWOXtrZhF"
   },
   "source": [
    "## 2. Data Statistics Description"
   ]
  },
  {
   "cell_type": "markdown",
   "metadata": {
    "id": "BJuh1nsirmOy"
   },
   "source": [
    "### 2.1 Traffic Analysis"
   ]
  },
  {
   "cell_type": "markdown",
   "metadata": {
    "id": "vzey2OZygD8u"
   },
   "source": [
    "\n",
    "<div class=\"alert alert-block alert-warning\">\n",
    "\n",
    "**Code**: \n",
    "    Discover on the traffics by analysing hourly requests, then plot it into Bar Chart.\n",
    "    <br>\n",
    "    *Keep the outputs for code in your notebook.\n",
    "</div> \n",
    "\n",
    "<div class=\"alert alert-block alert-warning\">\n",
    "    \n",
    "**Report**: \n",
    "    **Part I 2.1.A** Please include your result for this coding task into your report Part I, with proper section title '2.1.A'.\n",
    "</div>\n",
    "    </div>\n"
   ]
  },
  {
   "cell_type": "markdown",
   "metadata": {
    "id": "EpEeaqZtxIZg"
   },
   "source": [
    "#### By day and plot \n",
    "\n"
   ]
  },
  {
   "cell_type": "code",
   "execution_count": 17,
   "metadata": {},
   "outputs": [
    {
     "data": {
      "text/html": [
       "<div>\n",
       "<style scoped>\n",
       "    .dataframe tbody tr th:only-of-type {\n",
       "        vertical-align: middle;\n",
       "    }\n",
       "\n",
       "    .dataframe tbody tr th {\n",
       "        vertical-align: top;\n",
       "    }\n",
       "\n",
       "    .dataframe thead th {\n",
       "        text-align: right;\n",
       "    }\n",
       "</style>\n",
       "<table border=\"1\" class=\"dataframe\">\n",
       "  <thead>\n",
       "    <tr style=\"text-align: right;\">\n",
       "      <th></th>\n",
       "      <th>date</th>\n",
       "      <th>time</th>\n",
       "      <th>s-port</th>\n",
       "      <th>sc-status</th>\n",
       "      <th>sc-substatus</th>\n",
       "      <th>sc-win32-status</th>\n",
       "    </tr>\n",
       "  </thead>\n",
       "  <tbody>\n",
       "    <tr>\n",
       "      <th>count</th>\n",
       "      <td>8435279</td>\n",
       "      <td>8435279</td>\n",
       "      <td>8435279.0</td>\n",
       "      <td>8.435279e+06</td>\n",
       "      <td>8.435279e+06</td>\n",
       "      <td>8.435279e+06</td>\n",
       "    </tr>\n",
       "    <tr>\n",
       "      <th>mean</th>\n",
       "      <td>2006-12-26 21:13:50.393009664</td>\n",
       "      <td>1900-01-01 09:42:41.874171648</td>\n",
       "      <td>80.0</td>\n",
       "      <td>2.300389e+02</td>\n",
       "      <td>1.120651e-03</td>\n",
       "      <td>2.870854e+00</td>\n",
       "    </tr>\n",
       "    <tr>\n",
       "      <th>min</th>\n",
       "      <td>2006-11-01 00:00:00</td>\n",
       "      <td>1900-01-01 00:00:00</td>\n",
       "      <td>80.0</td>\n",
       "      <td>2.000000e+02</td>\n",
       "      <td>0.000000e+00</td>\n",
       "      <td>0.000000e+00</td>\n",
       "    </tr>\n",
       "    <tr>\n",
       "      <th>25%</th>\n",
       "      <td>2006-11-29 00:00:00</td>\n",
       "      <td>1900-01-01 05:12:26</td>\n",
       "      <td>80.0</td>\n",
       "      <td>2.000000e+02</td>\n",
       "      <td>0.000000e+00</td>\n",
       "      <td>0.000000e+00</td>\n",
       "    </tr>\n",
       "    <tr>\n",
       "      <th>50%</th>\n",
       "      <td>2006-12-21 00:00:00</td>\n",
       "      <td>1900-01-01 09:11:31</td>\n",
       "      <td>80.0</td>\n",
       "      <td>2.000000e+02</td>\n",
       "      <td>0.000000e+00</td>\n",
       "      <td>0.000000e+00</td>\n",
       "    </tr>\n",
       "    <tr>\n",
       "      <th>75%</th>\n",
       "      <td>2007-01-26 00:00:00</td>\n",
       "      <td>1900-01-01 14:04:53</td>\n",
       "      <td>80.0</td>\n",
       "      <td>3.040000e+02</td>\n",
       "      <td>0.000000e+00</td>\n",
       "      <td>0.000000e+00</td>\n",
       "    </tr>\n",
       "    <tr>\n",
       "      <th>max</th>\n",
       "      <td>2007-03-01 00:00:00</td>\n",
       "      <td>1900-01-01 23:59:59</td>\n",
       "      <td>80.0</td>\n",
       "      <td>5.010000e+02</td>\n",
       "      <td>1.400000e+01</td>\n",
       "      <td>1.260000e+03</td>\n",
       "    </tr>\n",
       "    <tr>\n",
       "      <th>std</th>\n",
       "      <td>NaN</td>\n",
       "      <td>NaN</td>\n",
       "      <td>0.0</td>\n",
       "      <td>5.077773e+01</td>\n",
       "      <td>1.250622e-01</td>\n",
       "      <td>3.587477e+01</td>\n",
       "    </tr>\n",
       "  </tbody>\n",
       "</table>\n",
       "</div>"
      ],
      "text/plain": [
       "                                date                           time  \\\n",
       "count                        8435279                        8435279   \n",
       "mean   2006-12-26 21:13:50.393009664  1900-01-01 09:42:41.874171648   \n",
       "min              2006-11-01 00:00:00            1900-01-01 00:00:00   \n",
       "25%              2006-11-29 00:00:00            1900-01-01 05:12:26   \n",
       "50%              2006-12-21 00:00:00            1900-01-01 09:11:31   \n",
       "75%              2007-01-26 00:00:00            1900-01-01 14:04:53   \n",
       "max              2007-03-01 00:00:00            1900-01-01 23:59:59   \n",
       "std                              NaN                            NaN   \n",
       "\n",
       "          s-port     sc-status  sc-substatus  sc-win32-status  \n",
       "count  8435279.0  8.435279e+06  8.435279e+06     8.435279e+06  \n",
       "mean        80.0  2.300389e+02  1.120651e-03     2.870854e+00  \n",
       "min         80.0  2.000000e+02  0.000000e+00     0.000000e+00  \n",
       "25%         80.0  2.000000e+02  0.000000e+00     0.000000e+00  \n",
       "50%         80.0  2.000000e+02  0.000000e+00     0.000000e+00  \n",
       "75%         80.0  3.040000e+02  0.000000e+00     0.000000e+00  \n",
       "max         80.0  5.010000e+02  1.400000e+01     1.260000e+03  \n",
       "std          0.0  5.077773e+01  1.250622e-01     3.587477e+01  "
      ]
     },
     "execution_count": 17,
     "metadata": {},
     "output_type": "execute_result"
    }
   ],
   "source": [
    "#needed to change the  data and time  format\n",
    "df_ht['time'] = pd.to_datetime(df_ht['time'],format= '%H:%M:%S' )\n",
    "df_ht['date'] = pd.to_datetime(df_ht['date'], format='%Y-%m-%d')\n",
    "\n",
    "df_ht.describe(datetime_is_numeric=True)"
   ]
  },
  {
   "cell_type": "code",
   "execution_count": 31,
   "metadata": {
    "id": "DAH1IrWbfQQW"
   },
   "outputs": [
    {
     "data": {
      "image/png": "[encoded data removed]",
      "text/plain": [
       "<Figure size 432x288 with 1 Axes>"
      ]
     },
     "metadata": {
      "needs_background": "light"
     },
     "output_type": "display_data"
    }
   ],
   "source": [
    "# Create a bar chart of the number of server requests by hour of the day\n",
    "##filter date from 1st Nov 2006- 28th Feb 2007\n",
    "Web_Traffic = df_ht[(df_ht['date']>='2006-11-01')&(df_ht['date']<='2007-02-28')]\n",
    "#Resampling the serer traffic on hourly bases.\n",
    "Web_Traffic = Web_Traffic.resample('H', on='time').time.count()\n",
    "\n",
    "x=range(len(Web_Traffic.index))\n",
    "\n",
    "plt.xticks(x, Web_Traffic.index,rotation=90)\n",
    "\n",
    "plt.bar(x, Web_Traffic.values,color='royalblue', alpha=0.7)\n",
    "\n",
    "plt.grid(color='#95a5a6', linestyle='--', linewidth=2, axis='y', alpha=0.7)\n",
    "plt.title(\"Requests per Hour\")\n",
    "plt.xlabel('Time')\n",
    "plt.ylabel('Total hourly requests')\n",
    "plt.show()\n",
    "\n",
    "# Your code"
   ]
  },
  {
   "cell_type": "markdown",
   "metadata": {
    "id": "aFEJDPvEy8ZR"
   },
   "source": [
    "\n",
    "<div class=\"alert alert-block alert-warning\">\n",
    "\n",
    "**Code**: \n",
    "    You are required to filter the hourly requests by removing any below 490,000 and above 400,000. (hourly_request_amount >= 400000 & hourly_request_amount <= 490000)    \n",
    "    <br>\n",
    "    *Keep the outputs for code in your notebook.\n",
    "</div> \n",
    "\n",
    "<div class=\"alert alert-block alert-warning\">\n",
    "    \n",
    "**Report**: \n",
    "    **Part I 2.1.B** Please include your result for this coding task into your report, with proper section title '2.1.B'.\n",
    "</div>\n",
    "    </div>\n"
   ]
  },
  {
   "cell_type": "code",
   "execution_count": 39,
   "metadata": {
    "id": "TLArAkrH0rig"
   },
   "outputs": [
    {
     "data": {
      "image/png": "[encoded data removed]",
      "text/plain": [
       "<Figure size 432x288 with 1 Axes>"
      ]
     },
     "metadata": {
      "needs_background": "light"
     },
     "output_type": "display_data"
    }
   ],
   "source": [
    "#Your code\n",
    "hourly_request_amount = Web_Traffic[ (Web_Traffic >= 400000) & (Web_Traffic <= 490000)]\n",
    "\n",
    "x=range(len(hourly_request_amount.index))\n",
    "\n",
    "plt.xticks(x, hourly_request_amount.index,rotation=90)\n",
    "\n",
    "plt.bar(x, hourly_request_amount.values,color='royalblue', alpha=0.7)\n",
    "\n",
    "plt.grid(color='#95a5a6', linestyle='--', linewidth=2, axis='y', alpha=0.7)\n",
    "plt.title(\"Requests per Hour\")\n",
    "plt.xlabel('Time')\n",
    "plt.ylabel('Total hourly requests')\n",
    "plt.show()\n"
   ]
  },
  {
   "cell_type": "code",
   "execution_count": 142,
   "metadata": {},
   "outputs": [
    {
     "name": "stdout",
     "output_type": "stream",
     "text": [
      "time\n",
      "1900-01-01 02:00:00    432290\n",
      "1900-01-01 05:00:00    487330\n",
      "1900-01-01 10:00:00    443519\n",
      "1900-01-01 13:00:00    442429\n",
      "1900-01-01 15:00:00    473057\n",
      "Name: time, dtype: int64\n"
     ]
    }
   ],
   "source": [
    "print(hourly_request_amount)"
   ]
  },
  {
   "cell_type": "markdown",
   "metadata": {
    "id": "xwKZ2IAr9IR_"
   },
   "source": [
    "### 2.2 Server Analysis"
   ]
  },
  {
   "cell_type": "markdown",
   "metadata": {
    "id": "n2sojLZStPBh"
   },
   "source": [
    "<div class=\"alert alert-block alert-warning\">\n",
    "\n",
    "**Code**: \n",
    "    Discover on the server status using 'sc-status' from DataFrame, then plot it into Pie Chart. <br>\n",
    "    *Keep the outputs for code in your notebook.\n",
    "</div> \n",
    "\n",
    "<div class=\"alert alert-block alert-warning\">\n",
    "    \n",
    "**Report**: \n",
    "    **Part I 2.2** Please include your results for this coding task into your report Part I section '2.2', <br>\n",
    "    1. How many types of status reported? <br>\n",
    "    2. Figure 'Server Status' in pie chart. <br>\n",
    "</div>"
   ]
  },
  {
   "cell_type": "code",
   "execution_count": 154,
   "metadata": {},
   "outputs": [
    {
     "data": {
      "text/plain": [
       "{200, 206, 301, 302, 304, 400, 403, 404, 406, 416, 500, 501}"
      ]
     },
     "execution_count": 154,
     "metadata": {},
     "output_type": "execute_result"
    }
   ],
   "source": [
    "server_status=set(df_ht['sc-status'])\n",
    "server_status"
   ]
  },
  {
   "cell_type": "markdown",
   "metadata": {
    "id": "jOy7bisdx6iB"
   },
   "source": [
    "#### Server Status"
   ]
  },
  {
   "cell_type": "code",
   "execution_count": 155,
   "metadata": {
    "id": "9nVWlMSXrHQg"
   },
   "outputs": [
    {
     "name": "stdout",
     "output_type": "stream",
     "text": [
      "the name of servers status are [200, 304, 404, 206, 302, 500, 403, 301, 400, 501, 406, 416]\n",
      "the total values of Server status are  [6072440, 2136901, 142575, 72472, 7366, 2012, 700, 433, 210, 113, 54, 3]\n"
     ]
    },
    {
     "data": {
      "text/plain": [
       "<function matplotlib.pyplot.show(*, block=None)>"
      ]
     },
     "execution_count": 155,
     "metadata": {},
     "output_type": "execute_result"
    },
    {
     "data": {
      "image/png": "[encoded data removed]",
      "text/plain": [
       "<Figure size 432x288 with 1 Axes>"
      ]
     },
     "metadata": {
      "needs_background": "light"
     },
     "output_type": "display_data"
    },
    {
     "data": {
      "image/png": "[encoded data removed]",
      "text/plain": [
       "<Figure size 432x288 with 1 Axes>"
      ]
     },
     "metadata": {},
     "output_type": "display_data"
    }
   ],
   "source": [
    "server_status=set(df_ht['sc-status'])\n",
    "#total =len(set(df_ht['sc-status']))\n",
    "total=df_ht['sc-status'].value_counts()\n",
    "print('the name of servers status are',list(total.index))\n",
    "print(\"the total values of Server status are \",list(total.values))\n",
    "y= total.values\n",
    "label=total.index\n",
    "plt.title(\"Server Status\")\n",
    "fig1, ax1 = plt.subplots()\n",
    "ax1.pie(y,labels=label,startangle=90,radius = 1)\n",
    "ax1.legend(title= \"Status\",loc=\"center left\")\n",
    "ax1.axis('equal') \n",
    "plt.show\n",
    "\n",
    "\n",
    "\n",
    "\n",
    "\n",
    "\n",
    "\n",
    "\n",
    "\n",
    "\n",
    "#Your code"
   ]
  },
  {
   "cell_type": "markdown",
   "metadata": {
    "id": "bxT49TgGpwrw"
   },
   "source": [
    "### 2.3 Geographic Analysis"
   ]
  },
  {
   "cell_type": "markdown",
   "metadata": {
    "id": "MpEve4Zgvtc9"
   },
   "source": [
    "Clinet's IP addresses can reflect geographic information. Since different IP are from different countries even citys, we can find out the demographics information from them. You may use **DbIpCity** from **ip2geotools** to find the geolocation information from given IPs.\n",
    "\n",
    "**Notes:**\n",
    "There are some attributes in ip2geotools can help: <br>\n",
    "*ip_address*: IP address <br>\n",
    "*city*: city where IP address is located <br>\n",
    "*region*: region where IP address is located <br>\n",
    "*country*: country where IP address is located (two letters country code) <br>"
   ]
  },
  {
   "cell_type": "markdown",
   "metadata": {
    "id": "AvUQUKGCqLhJ"
   },
   "source": [
    "#### 2.3.A Requests by Country\n",
    "<div class=\"alert alert-block alert-warning\">\n",
    "\n",
    "**Code**: \n",
    "    Build your code with the following requirements <br>\n",
    "    1. Select all requests at 01 Jan 2007 from 20:00:00 pm to 20:59:59. <br>\n",
    "    2. Discover on the demographics by analysing requests from country level. <br>\n",
    "    3. Plot countries of all requests in pie chart. <br>\n",
    "    4. List top 3 with the numbers of requests. <br>\n",
    "    *Keep the outputs for code in your notebook.\n",
    "</div> \n",
    "\n",
    "<div class=\"alert alert-block alert-warning\">\n",
    "    \n",
    "**Report**: \n",
    "    **Part I 2.3.A** Please include your results for this coding task into your report Part I section '2.3.A', <br>\n",
    "    1. How many requests raised in the period of time? <br>\n",
    "    2. How many countries are invlolved? <br>\n",
    "    3. Figure 'Request by Country' in pie chart. <br>\n",
    "    4. top 3 countries with request numbers. <br>\n",
    "</div>"
   ]
  },
  {
   "cell_type": "code",
   "execution_count": 35,
   "metadata": {
    "id": "g1UvjRlOVjy0"
   },
   "outputs": [
    {
     "name": "stdout",
     "output_type": "stream",
     "text": [
      "Collecting ip2geotools\n",
      "  Downloading ip2geotools-0.1.5-py3-none-any.whl (16 kB)\n",
      "Requirement already satisfied: tqdm>=4.28.1 in c:\\users\\umer\\anaconda3\\lib\\site-packages (from ip2geotools) (4.50.2)\n",
      "Requirement already satisfied: autopep8>=1.4.3 in c:\\users\\umer\\anaconda3\\lib\\site-packages (from ip2geotools) (1.5.4)\n",
      "Collecting maxminddb>=1.4.1\n",
      "  Downloading maxminddb-2.0.3.tar.gz (286 kB)\n",
      "Requirement already satisfied: Pygments>=2.3.0 in c:\\users\\umer\\anaconda3\\lib\\site-packages (from ip2geotools) (2.7.2)\n",
      "Collecting geocoder>=1.38.1\n",
      "  Downloading geocoder-1.38.1-py2.py3-none-any.whl (98 kB)\n",
      "Collecting geoip2>=2.9.0\n",
      "  Downloading geoip2-4.1.0-py2.py3-none-any.whl (25 kB)\n",
      "Collecting selenium>=3.141.0\n",
      "  Downloading selenium-3.141.0-py2.py3-none-any.whl (904 kB)\n",
      "Collecting dicttoxml>=1.7.4\n",
      "  Downloading dicttoxml-1.7.4.tar.gz (18 kB)\n",
      "Requirement already satisfied: chardet>=3.0.4 in c:\\users\\umer\\anaconda3\\lib\\site-packages (from ip2geotools) (3.0.4)\n",
      "Requirement already satisfied: six>=1.11.0 in c:\\users\\umer\\anaconda3\\lib\\site-packages (from ip2geotools) (1.15.0)\n",
      "Requirement already satisfied: future>=0.17.1 in c:\\users\\umer\\anaconda3\\lib\\site-packages (from ip2geotools) (0.18.2)\n",
      "Requirement already satisfied: docutils>=0.14 in c:\\users\\umer\\anaconda3\\lib\\site-packages (from ip2geotools) (0.16)\n",
      "Collecting pyquery>=1.4.0\n",
      "  Downloading pyquery-1.4.3-py3-none-any.whl (22 kB)\n",
      "Requirement already satisfied: bleach>=3.0.2 in c:\\users\\umer\\anaconda3\\lib\\site-packages (from ip2geotools) (3.2.1)\n",
      "Requirement already satisfied: pycodestyle>=2.4.0 in c:\\users\\umer\\anaconda3\\lib\\site-packages (from ip2geotools) (2.6.0)\n",
      "Requirement already satisfied: urllib3>=1.24.1 in c:\\users\\umer\\anaconda3\\lib\\site-packages (from ip2geotools) (1.25.11)\n",
      "Requirement already satisfied: pyparsing>=2.3.0 in c:\\users\\umer\\anaconda3\\lib\\site-packages (from ip2geotools) (2.4.7)\n",
      "Requirement already satisfied: decorator>=4.3.0 in c:\\users\\umer\\anaconda3\\lib\\site-packages (from ip2geotools) (4.4.2)\n",
      "Requirement already satisfied: webencodings>=0.5.1 in c:\\users\\umer\\anaconda3\\lib\\site-packages (from ip2geotools) (0.5.1)\n",
      "Requirement already satisfied: packaging>=18.0 in c:\\users\\umer\\anaconda3\\lib\\site-packages (from ip2geotools) (20.4)\n",
      "Collecting ratelim>=0.1.6\n",
      "  Downloading ratelim-0.1.6-py2.py3-none-any.whl (4.0 kB)\n",
      "Collecting IP2Location>=8.0.3\n",
      "  Downloading IP2Location-8.5.1-py3-none-any.whl (9.1 kB)\n",
      "Requirement already satisfied: Click>=7.0 in c:\\users\\umer\\anaconda3\\lib\\site-packages (from ip2geotools) (7.1.2)\n",
      "Collecting readme-renderer>=24.0\n",
      "  Downloading readme_renderer-29.0-py2.py3-none-any.whl (15 kB)\n",
      "Collecting requests-toolbelt>=0.8.0\n",
      "  Downloading requests_toolbelt-0.9.1-py2.py3-none-any.whl (54 kB)\n",
      "Collecting typed-ast>=1.1.0\n",
      "  Downloading typed_ast-1.4.3-cp38-cp38-win_amd64.whl (158 kB)\n",
      "Requirement already satisfied: lazy-object-proxy>=1.3.1 in c:\\users\\umer\\anaconda3\\lib\\site-packages (from ip2geotools) (1.4.3)\n",
      "Requirement already satisfied: requests>=2.20.1 in c:\\users\\umer\\anaconda3\\lib\\site-packages (from ip2geotools) (2.24.0)\n",
      "Collecting pip-review>=1.0\n",
      "  Downloading pip_review-1.1.0-py3-none-any.whl (7.2 kB)\n",
      "Collecting typing>=3.6.6\n",
      "  Downloading typing-3.7.4.3.tar.gz (78 kB)\n",
      "Requirement already satisfied: wrapt>=1.10.11 in c:\\users\\umer\\anaconda3\\lib\\site-packages (from ip2geotools) (1.11.2)\n",
      "Requirement already satisfied: isort>=4.3.4 in c:\\users\\umer\\anaconda3\\lib\\site-packages (from ip2geotools) (5.6.4)\n",
      "Requirement already satisfied: certifi>=2018.10.15 in c:\\users\\umer\\anaconda3\\lib\\site-packages (from ip2geotools) (2020.6.20)\n",
      "Requirement already satisfied: astroid>=2.1.0 in c:\\users\\umer\\anaconda3\\lib\\site-packages (from ip2geotools) (2.4.2)\n",
      "Requirement already satisfied: idna>=2.7 in c:\\users\\umer\\anaconda3\\lib\\site-packages (from ip2geotools) (2.10)\n",
      "Requirement already satisfied: pkginfo>=1.4.2 in c:\\users\\umer\\anaconda3\\lib\\site-packages (from ip2geotools) (1.6.1)\n",
      "Collecting cssselect>=1.0.3\n",
      "  Downloading cssselect-1.1.0-py2.py3-none-any.whl (16 kB)\n",
      "Requirement already satisfied: pylint>=2.2.0 in c:\\users\\umer\\anaconda3\\lib\\site-packages (from ip2geotools) (2.6.0)\n",
      "Requirement already satisfied: lxml>=4.2.5 in c:\\users\\umer\\anaconda3\\lib\\site-packages (from ip2geotools) (4.6.1)\n",
      "Requirement already satisfied: mccabe>=0.6.1 in c:\\users\\umer\\anaconda3\\lib\\site-packages (from ip2geotools) (0.6.1)\n",
      "Collecting twine>=1.12.1\n",
      "  Downloading twine-3.4.1-py3-none-any.whl (34 kB)\n",
      "Requirement already satisfied: toml in c:\\users\\umer\\anaconda3\\lib\\site-packages (from autopep8>=1.4.3->ip2geotools) (0.10.1)\n",
      "Collecting aiohttp<4.0.0,>=3.6.2\n",
      "  Downloading aiohttp-3.7.4.post0-cp38-cp38-win_amd64.whl (635 kB)\n",
      "Requirement already satisfied: pip in c:\\users\\umer\\anaconda3\\lib\\site-packages (from pip-review>=1.0->ip2geotools) (20.2.4)\n",
      "Requirement already satisfied: colorama; sys_platform == \"win32\" in c:\\users\\umer\\anaconda3\\lib\\site-packages (from pylint>=2.2.0->ip2geotools) (0.4.4)\n",
      "Collecting importlib-metadata>=3.6\n",
      "  Downloading importlib_metadata-4.0.0-py3-none-any.whl (16 kB)\n",
      "Requirement already satisfied: keyring>=15.1 in c:\\users\\umer\\anaconda3\\lib\\site-packages (from twine>=1.12.1->ip2geotools) (21.4.0)\n",
      "Collecting rfc3986>=1.4.0\n",
      "  Downloading rfc3986-1.4.0-py2.py3-none-any.whl (31 kB)\n",
      "Collecting async-timeout<4.0,>=3.0\n",
      "  Downloading async_timeout-3.0.1-py3-none-any.whl (8.2 kB)\n",
      "Requirement already satisfied: typing-extensions>=3.6.5 in c:\\users\\umer\\anaconda3\\lib\\site-packages (from aiohttp<4.0.0,>=3.6.2->geoip2>=2.9.0->ip2geotools) (3.7.4.3)\n",
      "Collecting yarl<2.0,>=1.0\n",
      "  Downloading yarl-1.6.3-cp38-cp38-win_amd64.whl (125 kB)\n",
      "Requirement already satisfied: attrs>=17.3.0 in c:\\users\\umer\\anaconda3\\lib\\site-packages (from aiohttp<4.0.0,>=3.6.2->geoip2>=2.9.0->ip2geotools) (20.3.0)\n",
      "Collecting multidict<7.0,>=4.5\n",
      "  Downloading multidict-5.1.0-cp38-cp38-win_amd64.whl (48 kB)\n",
      "Requirement already satisfied: zipp>=0.5 in c:\\users\\umer\\anaconda3\\lib\\site-packages (from importlib-metadata>=3.6->twine>=1.12.1->ip2geotools) (3.4.0)\n",
      "Requirement already satisfied: pywin32-ctypes!=0.1.0,!=0.1.1; sys_platform == \"win32\" in c:\\users\\umer\\anaconda3\\lib\\site-packages (from keyring>=15.1->twine>=1.12.1->ip2geotools) (0.2.0)\n",
      "Building wheels for collected packages: maxminddb, dicttoxml, typing\n",
      "  Building wheel for maxminddb (setup.py): started\n",
      "  Building wheel for maxminddb (setup.py): finished with status 'done'\n",
      "  Created wheel for maxminddb: filename=maxminddb-2.0.3-py2.py3-none-any.whl size=15289 sha256=95086926a8fcf44f518dd39e4837a23f678556d9e33258e6a5cdc9776e88e193\n",
      "  Stored in directory: c:\\users\\umer\\appdata\\local\\pip\\cache\\wheels\\33\\3d\\d8\\ba39935b88eb6efd147b53e284d391bb7ad159979db3c0f960\n",
      "  Building wheel for dicttoxml (setup.py): started\n",
      "  Building wheel for dicttoxml (setup.py): finished with status 'done'\n",
      "  Created wheel for dicttoxml: filename=dicttoxml-1.7.4-py3-none-any.whl size=17457 sha256=0b8e4fc31396e6cd142a240e1bb436eb5fa891ffc129497c913ff04c75678fa9\n",
      "  Stored in directory: c:\\users\\umer\\appdata\\local\\pip\\cache\\wheels\\6c\\32\\1d\\09f338b837cdbb71f8889b866d50db3e0eaa02b8fc2be4c943\n",
      "  Building wheel for typing (setup.py): started\n",
      "  Building wheel for typing (setup.py): finished with status 'done'\n",
      "  Created wheel for typing: filename=typing-3.7.4.3-py3-none-any.whl size=26312 sha256=e109014fb8362ba3976c790202721891228be4453d4189ca9b899da35b6b71f7\n",
      "  Stored in directory: c:\\users\\umer\\appdata\\local\\pip\\cache\\wheels\\5e\\5d\\01\\3083e091b57809dad979ea543def62d9d878950e3e74f0c930\n",
      "Successfully built maxminddb dicttoxml typing\n",
      "Installing collected packages: maxminddb, ratelim, geocoder, async-timeout, multidict, yarl, aiohttp, geoip2, selenium, dicttoxml, cssselect, pyquery, IP2Location, readme-renderer, requests-toolbelt, typed-ast, pip-review, typing, importlib-metadata, rfc3986, twine, ip2geotools\n",
      "  Attempting uninstall: importlib-metadata\n",
      "    Found existing installation: importlib-metadata 2.0.0\n",
      "    Uninstalling importlib-metadata-2.0.0:\n",
      "      Successfully uninstalled importlib-metadata-2.0.0\n",
      "Successfully installed IP2Location-8.5.1 aiohttp-3.7.4.post0 async-timeout-3.0.1 cssselect-1.1.0 dicttoxml-1.7.4 geocoder-1.38.1 geoip2-4.1.0 importlib-metadata-4.0.0 ip2geotools-0.1.5 maxminddb-2.0.3 multidict-5.1.0 pip-review-1.1.0 pyquery-1.4.3 ratelim-0.1.6 readme-renderer-29.0 requests-toolbelt-0.9.1 rfc3986-1.4.0 selenium-3.141.0 twine-3.4.1 typed-ast-1.4.3 typing-3.7.4.3 yarl-1.6.3\n"
     ]
    }
   ],
   "source": [
    "!pip install ip2geotools"
   ]
  },
  {
   "cell_type": "code",
   "execution_count": 86,
   "metadata": {
    "id": "jSdycFyYzybd"
   },
   "outputs": [
    {
     "name": "stdout",
     "output_type": "stream",
     "text": [
      "<class 'pandas.core.frame.DataFrame'>\n",
      "Int64Index: 214 entries, 4770371 to 4770584\n",
      "Data columns (total 14 columns):\n",
      " #   Column           Non-Null Count  Dtype         \n",
      "---  ------           --------------  -----         \n",
      " 0   date             214 non-null    datetime64[ns]\n",
      " 1   time             214 non-null    datetime64[ns]\n",
      " 2   s-sitename       214 non-null    object        \n",
      " 3   s-ip             214 non-null    object        \n",
      " 4   cs-method        214 non-null    object        \n",
      " 5   cs-uri-stem      214 non-null    object        \n",
      " 6   s-port           214 non-null    int64         \n",
      " 7   c-ip             214 non-null    object        \n",
      " 8   cs(User-Agent)   214 non-null    object        \n",
      " 9   sc-status        214 non-null    int64         \n",
      " 10  sc-substatus     214 non-null    int64         \n",
      " 11  sc-win32-status  214 non-null    int64         \n",
      " 12  Country          214 non-null    object        \n",
      " 13  City             214 non-null    object        \n",
      "dtypes: datetime64[ns](2), int64(4), object(8)\n",
      "memory usage: 25.1+ KB\n"
     ]
    }
   ],
   "source": [
    "from ip2geotools.databases.noncommercial import DbIpCity\n",
    "df_geoloc = df_ht[(df_ht['date']=='2007-01-01')]\n",
    "start_time = datetime.strptime('20:00:00', '%H:%M:%S').time()\n",
    "finish_time = datetime.strptime('20:59:59', '%H:%M:%S').time()\n",
    "df_geoloc = df_geoloc[(df_geoloc['time'].dt.time >= start_time) & (df_geoloc['time'].dt.time <= finish_time)]\n",
    "df_geoloc['Country']=df_geoloc.apply(lambda row: DbIpCity.get(row['c-ip'], api_key='free').country, axis=1)\n",
    "df_geoloc['City']=df_geoloc.apply(lambda row: DbIpCity.get(row['c-ip'], api_key='free').city, axis=1)\n",
    "df_geoloc.info()\n",
    "#Your code"
   ]
  },
  {
   "cell_type": "code",
   "execution_count": 161,
   "metadata": {
    "id": "xN21MLq7x6Cf"
   },
   "outputs": [
    {
     "name": "stdout",
     "output_type": "stream",
     "text": [
      "total Index(['HK', 'CN', 'US', 'IT', 'AU'], dtype='object') [78.97196262 11.68224299  7.47663551  1.40186916  0.46728972]\n",
      "the top 3 countries are:\n",
      " HK    169\n",
      "CN     25\n",
      "US     16\n",
      "Name: Country, dtype: int64\n"
     ]
    },
    {
     "data": {
      "text/plain": [
       "<function matplotlib.pyplot.show(*, block=None)>"
      ]
     },
     "execution_count": 161,
     "metadata": {},
     "output_type": "execute_result"
    },
    {
     "data": {
      "image/png": "[encoded data removed]",
      "text/plain": [
       "<Figure size 432x288 with 1 Axes>"
      ]
     },
     "metadata": {},
     "output_type": "display_data"
    }
   ],
   "source": [
    "# Create a pie chart of the country values\n",
    "c=df_geoloc['Country'].value_counts()\n",
    "total=(c.values/c.sum())*100\n",
    "print(\"total\",c.index,total)\n",
    "print(\"the top 3 countries are:\\n\",(c)[:3])\n",
    "label=c.index\n",
    "fig1, ax1 = plt.subplots()\n",
    "ax1.pie(y,labels=label,startangle=90,radius = 1)\n",
    "ax1.legend(title= \"Countries\",loc=\"center left\")\n",
    "ax1.axis('equal') \n",
    "plt.title(\"Request by Country \\n\")\n",
    "\n",
    "plt.show\n"
   ]
  },
  {
   "cell_type": "code",
   "execution_count": 164,
   "metadata": {},
   "outputs": [
    {
     "name": "stdout",
     "output_type": "stream",
     "text": [
      "HK    169\n",
      "CN     25\n",
      "US     16\n",
      "IT      3\n",
      "AU      1\n",
      "Name: Country, dtype: int64\n"
     ]
    }
   ],
   "source": [
    "print(c)"
   ]
  },
  {
   "cell_type": "markdown",
   "metadata": {
    "id": "Qhf-g91_umxF"
   },
   "source": [
    "#### 2.3.B Requests by City\n",
    "<div class=\"alert alert-block alert-warning\">\n",
    "\n",
    "**Code**: \n",
    "    Using the selected requests from 2.3.A and build your code with the following requirements <br>\n",
    "    1. Discover on the demographics by analysing requests from city level. <br>\n",
    "    2. Plot cities of all requests in pie chart. <br>\n",
    "    3. List top 3 with the numbers of requests. <br>\n",
    "    *Keep the outputs for code in your notebook.\n",
    "</div> \n",
    "\n",
    "<div class=\"alert alert-block alert-warning\">\n",
    "    \n",
    "**Report**: \n",
    "    **Part I 2.3.B** Please include your results for this coding task into your report Part I section '2.3.B', <br>\n",
    "    1. How many cites are invlolved? <br>\n",
    "    2. Figure 'Request by City' in pie chart. <br>\n",
    "    3. Top 3 cities with request numbers. <br>\n",
    "</div>"
   ]
  },
  {
   "cell_type": "code",
   "execution_count": 115,
   "metadata": {
    "id": "g7p39EpEBqaj"
   },
   "outputs": [
    {
     "name": "stdout",
     "output_type": "stream",
     "text": [
      "the top 3 cites are:\n",
      " Ha Kwai Chung    166\n",
      "Beijing           15\n",
      "New York          14\n",
      "Name: City, dtype: int64\n"
     ]
    },
    {
     "data": {
      "text/plain": [
       "<function matplotlib.pyplot.show(*, block=None)>"
      ]
     },
     "execution_count": 115,
     "metadata": {},
     "output_type": "execute_result"
    },
    {
     "data": {
      "image/png": "[encoded data removed]",
      "text/plain": [
       "<Figure size 432x288 with 1 Axes>"
      ]
     },
     "metadata": {},
     "output_type": "display_data"
    }
   ],
   "source": [
    "# Create a pie chart of the city values\n",
    "city=df_geoloc['City'].value_counts()\n",
    "print(\"the top 3 cites are:\\n\",(city)[:3])\n",
    "y= city.values\n",
    "label=city.index\n",
    "fig1, ax1 = plt.subplots()\n",
    "ax1.pie(y,labels=label,startangle=90,radius = 1)\n",
    "ax1.legend(title= \"Cities\",loc=3)\n",
    "ax1.axis('equal') \n",
    "plt.title(\"Request by City \\n\")\n",
    "\n",
    "plt.show\n",
    "\n"
   ]
  },
  {
   "cell_type": "code",
   "execution_count": 163,
   "metadata": {},
   "outputs": [
    {
     "name": "stdout",
     "output_type": "stream",
     "text": [
      "Ha Kwai Chung                         166\n",
      "Beijing                                15\n",
      "New York                               14\n",
      "Jinrongjie (Xicheng District)           9\n",
      "Valcanneto                              3\n",
      "Hong Kong                               2\n",
      "Mountain View                           1\n",
      "Quarry Bay                              1\n",
      "Hangzhou                                1\n",
      "Sydney                                  1\n",
      "San Francisco (Financial District)      1\n",
      "Name: City, dtype: int64\n"
     ]
    }
   ],
   "source": [
    "print(city)"
   ]
  },
  {
   "cell_type": "markdown",
   "metadata": {
    "id": "UOLvHKdZtcto"
   },
   "source": [
    "# Part II - Web Crawling\n",
    "\n",
    "## Overview\n",
    "To better introduce all the professors including the emeritus professor, the professor and also associate professor in Deakin University School of IT, faculty will need to know all the citation information on all professors. Google Scholar is a web search engine that freely indexes the metadata of articles on many authors. Majority of the professors choose to use google scholar to track their publications and research works. Therefore,  the web crawling on google scholar will be able to have the citation information obtained across all the professors (who have the google scholar profile).\n"
   ]
  },
  {
   "cell_type": "markdown",
   "metadata": {
    "id": "gqbiN3nAw0tS"
   },
   "source": [
    "## 3. Professor List Generation"
   ]
  },
  {
   "cell_type": "markdown",
   "metadata": {
    "id": "Bm7eq9Iywjc-"
   },
   "source": [
    "### 3.1 Import and install web crawling library. \n",
    "\n",
    "<div class=\"alert alert-block alert-warning\">\n",
    "\n",
    "**Code**: \n",
    "    Import and install your web crawling library here. \n",
    "</div> \n",
    "\n",
    "<div class=\"alert alert-block alert-warning\">\n",
    "    \n",
    "**Report**: \n",
    "    **Part II 3.1** Please include your result for this coding task into your report Part II, with proper section title '3.1'.\n",
    "</div>\n",
    "\n",
    "*hint: you could use selenium by doing the pip install selenium, download the webdriver for chromedriver and define your webdriver for crawling. But you are free to use any other library*\n",
    "\n"
   ]
  },
  {
   "cell_type": "code",
   "execution_count": 128,
   "metadata": {
    "id": "rHKPhKwUwtyI"
   },
   "outputs": [
    {
     "name": "stdout",
     "output_type": "stream",
     "text": [
      "Requirement already satisfied: selenium in c:\\users\\umer\\anaconda3\\lib\\site-packages (3.141.0)\n",
      "Requirement already satisfied: urllib3 in c:\\users\\umer\\anaconda3\\lib\\site-packages (from selenium) (1.25.11)\n",
      "Requirement already satisfied: webdriver_manager in c:\\users\\umer\\anaconda3\\lib\\site-packages (3.4.0)\n",
      "Requirement already satisfied: requests in c:\\users\\umer\\anaconda3\\lib\\site-packages (from webdriver_manager) (2.24.0)\n",
      "Requirement already satisfied: configparser in c:\\users\\umer\\anaconda3\\lib\\site-packages (from webdriver_manager) (5.0.2)\n",
      "Requirement already satisfied: crayons in c:\\users\\umer\\anaconda3\\lib\\site-packages (from webdriver_manager) (0.4.0)\n",
      "Requirement already satisfied: certifi>=2017.4.17 in c:\\users\\umer\\anaconda3\\lib\\site-packages (from requests->webdriver_manager) (2020.6.20)\n",
      "Requirement already satisfied: chardet<4,>=3.0.2 in c:\\users\\umer\\anaconda3\\lib\\site-packages (from requests->webdriver_manager) (3.0.4)\n",
      "Requirement already satisfied: idna<3,>=2.5 in c:\\users\\umer\\anaconda3\\lib\\site-packages (from requests->webdriver_manager) (2.10)\n",
      "Requirement already satisfied: urllib3!=1.25.0,!=1.25.1,<1.26,>=1.21.1 in c:\\users\\umer\\anaconda3\\lib\\site-packages (from requests->webdriver_manager) (1.25.11)\n",
      "Requirement already satisfied: colorama in c:\\users\\umer\\anaconda3\\lib\\site-packages (from crayons->webdriver_manager) (0.4.4)\n"
     ]
    }
   ],
   "source": [
    "# write your import and necessary web crawling libary here\n",
    "import os\n",
    "!pip install selenium\n",
    "!pip install webdriver_manager\n",
    "from webdriver_manager.chrome import ChromeDriverManager\n",
    "\n",
    "\n",
    "from selenium import webdriver\n",
    "from selenium.webdriver.common.keys import Keys\n",
    "\n",
    "from bs4 import BeautifulSoup\n",
    "chrome_options = webdriver.ChromeOptions()\n",
    "\n",
    "sys.path.insert(0,\"C:\\\\Users\\\\umer\\\\Desktop\\\\chromedriver.exe\")\n",
    "#sys.path.insert(0,)\n",
    "#path=\"C:\\Users\\umer\\anaconda3\\Scripts\\chromedriver.exe\"\n"
   ]
  },
  {
   "cell_type": "markdown",
   "metadata": {
    "id": "ZX4OQIsfwwk_"
   },
   "source": [
    "### 3.2 Find all professors in School of IT and save it as csv. \n",
    "\n",
    "<div class=\"alert alert-block alert-warning\">\n",
    "\n",
    "**Code**: \n",
    "    Find all professors in Schoolf of IT and save it as csv. The csv must have the full name of the professor (in one column), the title of the professor and University Name.\n",
    "</div> \n",
    "\n",
    "<div class=\"alert alert-block alert-warning\">\n",
    "    \n",
    "**Report**: \n",
    "    **Part II 3.2** Please include your result for this coding task into your report Part II, with proper section title '3.2'.\n",
    "</div>\n",
    "\n",
    "\n",
    "\n",
    "*hint: the url of the staff list for school of IT is https://www.deakin.edu.au/information-technology/staff-listing. you may need to iteratively find out html tag by table in the page to start crawl all the text from td (td is the elements in html table, check https://www.w3schools.com/html/html_tables.asp)*"
   ]
  },
  {
   "cell_type": "code",
   "execution_count": 148,
   "metadata": {
    "id": "vII6Na-1xEAh"
   },
   "outputs": [],
   "source": [
    "# here we first define the parsing method, you will need to use this parsing method to format the professor full name and title from the staff page.\n",
    "# the name of the professor from staff page will be split by space and last two words are full name \n",
    "path=r\"C:\\Users\\umer\\Downloads\\chromedriver\\chromedriver\"\n",
    "driver=webdriver.Chrome(path)\n",
    "driver.get('https://www.deakin.edu.au/information-technology/staff-listing')\n",
    "soup=BeautifulSoup(driver.page_source,'lxml')\n",
    "divs = soup.find_all('div',class_='module__accordion--wrapper')\n",
    "arr=[]\n",
    "for div in divs:\n",
    "    title=div.find('h3').get_text()\n",
    "    table_rows=div.find('table').find('tbody').find_all('tr')\n",
    "    for tr in table_rows:\n",
    "        dic = dict()\n",
    "        dic['Name']=parse_name(tr.find('td').get_text())[0]\n",
    "        dic['Title']=parse_name(tr.find('td').get_text())[1]\n",
    "        dic['University']='Deakin University'\n",
    "        arr.append(dic)\n",
    "\n",
    "\n",
    "def parse_name(stringtext):\n",
    "  return \" \".join(stringtext.split(\" \")[-2:]),\" \".join(stringtext.split(\" \")[:-2])"
   ]
  },
  {
   "cell_type": "code",
   "execution_count": 150,
   "metadata": {
    "id": "RmLHQyKbxIEL"
   },
   "outputs": [],
   "source": [
    "import pandas as pd\n",
    "# the crawling information will be stored in pandas dataframe and then save as csv\n",
    "# below you are required to use the parse_name method to crawl the professor's full name and title\n",
    "# The column name must be same as the provided professor-list.csv\n",
    "df_crawl=pd.DataFrame(arr)\n",
    "df_crawl.to_csv('Professor-name-list.csv',index=False)\n"
   ]
  },
  {
   "cell_type": "markdown",
   "metadata": {
    "id": "hwKTqMXaxOpw"
   },
   "source": [
    "## 4. Professor Citation Information Generation\n"
   ]
  },
  {
   "cell_type": "markdown",
   "metadata": {
    "id": "_uk5f1LgxQc7"
   },
   "source": [
    "### 4.1 Search the google scholar for all professors \n",
    "<div class=\"alert alert-block alert-warning\">\n",
    "\n",
    "**Code**: \n",
    "    Search the google scholar for all professors and obtain their citations-all, h-index-all, i10-all, citation-since2016,h-index-2016 and i10-since2016. Save the results as csv and must having **all the professors name, title and all 6 citation information.**\n",
    "</div> \n",
    "\n",
    "<div class=\"alert alert-block alert-warning\">\n",
    "    \n",
    "**Report**: \n",
    "    **Part II 4.1** Please include your result for this coding task into your report Part II, with proper section title '4.1'.\n",
    "</div>\n",
    "\n",
    "\n",
    "*hint: if the professors did not have the google scholar profle with the name, save the 6 citation information as string \"na\". you could use the while loop with condition or for loop with if condition or for loop with defined method having if condition to deal with those professors do not have google scholar*"
   ]
  },
  {
   "cell_type": "code",
   "execution_count": null,
   "metadata": {
    "id": "YITbe1Owxf2o"
   },
   "outputs": [],
   "source": [
    "# search the google scholar for all professors to obtain their citations_all, h-index_all, i10_all, citation_since2016\n",
    "# h-index-2016 and i10_since2016. Save the results as csv and must having all the professors name, title and all 6 citation information.\n",
    "# if the professors did not have the google scholar profle with the name, save the 6 citation information as string \"na\"\n",
    "# you are requests to use loops and Conditional Statements to finish this task (eg: while / for, if...), failed to use loop\n",
    "# and conditional statements will occur 0 mark.\n",
    "# hint: sometimes, to render the google scholar page, you need to wait for the brower for few seconds, you could use \"from time import sleep\"\n",
    "# to have sleep(5) as the wait action for waiting 5 seconds.  \n",
    "# The column name must be same as the provided professor-citation-information.csv \n",
    "# write your code for this part as below:\n",
    "\n"
   ]
  },
  {
   "cell_type": "markdown",
   "metadata": {
    "id": "7xxoyZvzxgmK"
   },
   "source": [
    "### 4.2 Find out the professor name having the most citations \n",
    "\n",
    "<div class=\"alert alert-block alert-warning\">\n",
    "\n",
    "**Code**: \n",
    "    Find out the professor name having the most citations (please remove those professor who does not have google scholar page)\n",
    "\n",
    "<div class=\"alert alert-block alert-warning\">\n",
    "    \n",
    "**Report**: \n",
    "    **Part II 4.2** Please include your result for this coding task into your report Part II, with proper section title '4.2'.\n",
    "</div>\n"
   ]
  },
  {
   "cell_type": "code",
   "execution_count": null,
   "metadata": {
    "id": "ay_z3pC8xntr"
   },
   "outputs": [],
   "source": [
    "# find out the professor name having the most citations (please remove those professor who does not have google scholar page)\n",
    "# write your code here\n",
    "\n"
   ]
  },
  {
   "cell_type": "markdown",
   "metadata": {
    "id": "MTlPxwg5xo_U"
   },
   "source": [
    "### 4.3 Find out the row for associate professor having the most i10-index since 2016 \n",
    "<div class=\"alert alert-block alert-warning\">\n",
    "\n",
    "**Code**: \n",
    "    Find out the row for associate professor having the most i10-index since 2016 (please remove those professor who does not have google scholar page)\n",
    "\n",
    "<div class=\"alert alert-block alert-warning\">\n",
    "    \n",
    "**Report**: \n",
    "    **Part II 4.3** Please include your result for this coding task into your report Part II, with proper section title '4.3'.\n",
    "</div>\n"
   ]
  },
  {
   "cell_type": "code",
   "execution_count": null,
   "metadata": {
    "id": "MjpexWtRxwA5"
   },
   "outputs": [],
   "source": [
    "# find out the row for associate professor having the most i10_index since 2016 (please remove those professor who does not have google scholar page)\n",
    "# write your code here"
   ]
  },
  {
   "cell_type": "markdown",
   "metadata": {
    "id": "lsHSp2H9xxRg"
   },
   "source": [
    "### 4.4 Find out all the professors name who has the citations_since2016 > 2500\n",
    "<div class=\"alert alert-block alert-warning\">\n",
    "\n",
    "**Code**: \n",
    "    Find out the row for associate professor having the most i10-index since 2016 (please remove those professor who does not have google scholar page)\n",
    "\n",
    "<div class=\"alert alert-block alert-warning\">\n",
    "    \n",
    "**Report**: \n",
    "    **Part II 4.4** Please include your result for this coding task into your report Part II, with proper section title '4.4'.\n",
    "</div>\n"
   ]
  },
  {
   "cell_type": "code",
   "execution_count": null,
   "metadata": {
    "id": "ZD352krRx5Dk"
   },
   "outputs": [],
   "source": [
    "# find out all the professors name who has the citations_since2016 > 2500\n",
    "# write your code here"
   ]
  }
 ],
 "metadata": {
  "colab": {
   "collapsed_sections": [],
   "name": "SIT742Task1.ipynb",
   "provenance": [],
   "toc_visible": true
  },
  "kernelspec": {
   "display_name": "Python 3",
   "language": "python",
   "name": "python3"
  },
  "language_info": {
   "codemirror_mode": {
    "name": "ipython",
    "version": 3
   },
   "file_extension": ".py",
   "mimetype": "text/x-python",
   "name": "python",
   "nbconvert_exporter": "python",
   "pygments_lexer": "ipython3",
   "version": "3.8.5"
  },
  "name": "SampleCode",
  "notebookId": 2691131752868967
 },
 "nbformat": 4,
 "nbformat_minor": 1
}
