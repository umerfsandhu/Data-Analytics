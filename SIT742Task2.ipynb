{
 "cells": [
  {
   "cell_type": "markdown",
   "metadata": {
    "id": "Av_sK6JRQag5"
   },
   "source": [
    "# SIT742: Modern Data Science \n",
    "**(2021 Assessment Task 02 - Data Analytics)**\n",
    "\n",
    "---\n",
    "- Please refer to the CloudDeakin for the detailed assessment requirements.\n",
    "- Please submit to Clouddeakin before the due date.\n",
    "- It is a group assignment, and please form a group and self-enrol into the CloudDeakin groups.\n",
    "- Students with difficulty in meeting the deadline because of illness, etc. must apply for an assignment extension in CloudDeakin no later than *12:00pm on 21/05/2021 (Friday)*.\n",
    "\n",
    "\n",
    "Prepared by **SIT742 Teaching Team**\n",
    "\n",
    "\n",
    "---\n",
    "\n",
    "<div class=\"alert alert-block alert-info\">\n",
    "Enter your group information in the following cell.   \n",
    "</div>\n",
    "\n",
    "**Student Information:** Please fill your group information below\n",
    "\n",
    "- Group ID: Task2G3M 155\n",
    "- Names:  UMER SANDHU, USMAN TARIQ, MOHAMMED ZAID KHAN\n",
    "- Student IDs: 219129134, 219251039, 219361458\n",
    "- Emails:  csandhu@deakin.edu.au, tariqus@deakin.edu.au, mzkh@deakin.edu.au\n",
    "- Lab Session and Tutor (for on campus students): \n",
    "\n",
    "---\n",
    "\n",
    "\n",
    "# Part I - Web Log Data\n",
    "\n",
    "## Overview\n",
    "\n",
    "Hotel TULIP a five-star hotel located at Deakin University, and its CIO Dr Bear Guts has asked the Team-SIT742 team to analyse the weblogs files. Hence, Hotel TULIP would like you *Group-SIT742* (a hypothetical data analytics group with up to 3 data analysers) to analyse web log files and discover user accessing patterns of different web pages. \n",
    "\n",
    "In this part, you are required to use give dataset to finish some required analysis, with the exploreation data analytics skills as well as visuilization skill.\n",
    "\n",
    "\n",
    "You will be required to complete the coding to answer the questions with a neat and clean format, and you must keep outputs for code. Your commenting and adherence to code standards will also be considered when marking. Further information on Python standards, please visit https://www.python.org/dev/peps/pep-0008/ \n",
    "\n",
    "\n",
    "**Note**: You are not restricted to the partial code provided, and you can write your own code to implement the required tasks. But you should provide sufficient comments.\n"
   ]
  },
  {
   "cell_type": "markdown",
   "metadata": {
    "id": "gamCnd8GKEJ7"
   },
   "source": [
    "## 1.Data ETL"
   ]
  },
  {
   "cell_type": "markdown",
   "metadata": {
    "id": "z6Ro64a9KNWs"
   },
   "source": [
    "### 1.1 Load Data"
   ]
  },
  {
   "cell_type": "code",
   "execution_count": null,
   "metadata": {
    "colab": {
     "base_uri": "https://localhost:8080/"
    },
    "id": "37Nq2m64KP0N",
    "outputId": "71ad3fba-f123-4fae-d812-7f5ea44e250a"
   },
   "outputs": [
    {
     "name": "stdout",
     "output_type": "stream",
     "text": [
      "Mounted at /content/drive\n"
     ]
    }
   ],
   "source": [
    "from google.colab import drive\n",
    "drive.mount('/content/drive')\n",
    "import numpy as np\n",
    "import pandas as pd\n",
    "import time\n",
    "import datetime\n",
    "import matplotlib\n",
    "import matplotlib.pyplot as plt\n",
    "from scipy import stats\n",
    "from zipfile import ZipFile\n",
    "from ipywidgets import IntProgress\n",
    "from IPython.display import display\n",
    "\n",
    "import warnings\n",
    "warnings.filterwarnings('ignore')"
   ]
  },
  {
   "cell_type": "code",
   "execution_count": null,
   "metadata": {
    "id": "_Vlvejgn5f5e"
   },
   "outputs": [],
   "source": [
    "def get_data(txt):\n",
    "    rows = []                                 #To store data after spliting\n",
    "    for line in txt:\n",
    "        data = line.split()\n",
    "        if (len(data) == 15):\n",
    "            rows.append(data)\n",
    "    return rows"
   ]
  },
  {
   "cell_type": "code",
   "execution_count": null,
   "metadata": {
    "id": "I9erogv-9K4f",
    "outputId": "a4697adc-4473-41e6-fc55-a4f26f8abbc3"
   },
   "outputs": [
    {
     "name": "stdout",
     "output_type": "stream",
     "text": [
      "Number of files: 120\n"
     ]
    }
   ],
   "source": [
    "txt=[]                                      # To store text strings extracted from the weblog file\n",
    "with ZipFile(\"HTWebLog_p1.zip\") as zipfiles:\n",
    "    filelist = zipfiles.namelist()\n",
    "    print(\"Number of files:\", np.shape(filelist)[0])\n",
    "    for f in filelist:\n",
    "        df = pd.read_csv(zipfiles.open(f), encoding='iso-8859-1', delimiter =\"\\t\", skiprows=4)\n",
    "        df.columns = [\"data\"]\n",
    "        txt.extend(df[\"data\"])"
   ]
  },
  {
   "cell_type": "code",
   "execution_count": null,
   "metadata": {
    "id": "uBsa_QqP5f5f"
   },
   "outputs": [],
   "source": [
    "#Get Split data\n",
    "rows = get_data(txt)"
   ]
  },
  {
   "cell_type": "code",
   "execution_count": null,
   "metadata": {
    "id": "M4RAAnpnKS8d",
    "outputId": "f00464bb-82ba-474d-d358-d6fdbc99fddc"
   },
   "outputs": [
    {
     "name": "stdout",
     "output_type": "stream",
     "text": [
      "Number of records in web_log: 8438806\n"
     ]
    },
    {
     "data": {
      "text/html": [
       "<div>\n",
       "<style scoped>\n",
       "    .dataframe tbody tr th:only-of-type {\n",
       "        vertical-align: middle;\n",
       "    }\n",
       "\n",
       "    .dataframe tbody tr th {\n",
       "        vertical-align: top;\n",
       "    }\n",
       "\n",
       "    .dataframe thead th {\n",
       "        text-align: right;\n",
       "    }\n",
       "</style>\n",
       "<table border=\"1\" class=\"dataframe\">\n",
       "  <thead>\n",
       "    <tr style=\"text-align: right;\">\n",
       "      <th></th>\n",
       "      <th>date</th>\n",
       "      <th>time</th>\n",
       "      <th>s-sitename</th>\n",
       "      <th>s-ip</th>\n",
       "      <th>cs-method</th>\n",
       "      <th>cs-uri-stem</th>\n",
       "      <th>cs-uri-query</th>\n",
       "      <th>s-port</th>\n",
       "      <th>cs-username</th>\n",
       "      <th>c-ip</th>\n",
       "      <th>cs(User-Agent)</th>\n",
       "      <th>cs(Referer)</th>\n",
       "      <th>sc-status</th>\n",
       "      <th>sc-substatus</th>\n",
       "      <th>sc-win32-status</th>\n",
       "    </tr>\n",
       "  </thead>\n",
       "  <tbody>\n",
       "    <tr>\n",
       "      <th>0</th>\n",
       "      <td>2006-11-01</td>\n",
       "      <td>1900-01-01 00:00:08</td>\n",
       "      <td>W3SVC1</td>\n",
       "      <td>127.0.0.1</td>\n",
       "      <td>GET</td>\n",
       "      <td>/Tulip/home/en-us/home_index.aspx</td>\n",
       "      <td>-</td>\n",
       "      <td>80</td>\n",
       "      <td>-</td>\n",
       "      <td>70.80.84.76</td>\n",
       "      <td>Mozilla/4.0+(compatible;+MSIE+6.0;+Windows+NT+...</td>\n",
       "      <td>-</td>\n",
       "      <td>200</td>\n",
       "      <td>0</td>\n",
       "      <td>0</td>\n",
       "    </tr>\n",
       "    <tr>\n",
       "      <th>1</th>\n",
       "      <td>2006-11-01</td>\n",
       "      <td>1900-01-01 00:00:08</td>\n",
       "      <td>W3SVC1</td>\n",
       "      <td>127.0.0.1</td>\n",
       "      <td>GET</td>\n",
       "      <td>/Tulip/includes/js/CommonUtil.js</td>\n",
       "      <td>-</td>\n",
       "      <td>80</td>\n",
       "      <td>-</td>\n",
       "      <td>70.80.84.76</td>\n",
       "      <td>Mozilla/4.0+(compatible;+MSIE+6.0;+Windows+NT+...</td>\n",
       "      <td>http://www.hotelTulip.com.hk/Tulip/home/en-us/...</td>\n",
       "      <td>200</td>\n",
       "      <td>0</td>\n",
       "      <td>0</td>\n",
       "    </tr>\n",
       "    <tr>\n",
       "      <th>2</th>\n",
       "      <td>2006-11-01</td>\n",
       "      <td>1900-01-01 00:00:09</td>\n",
       "      <td>W3SVC1</td>\n",
       "      <td>127.0.0.1</td>\n",
       "      <td>GET</td>\n",
       "      <td>/Tulip/common/common_style.aspx</td>\n",
       "      <td>lang=en-us</td>\n",
       "      <td>80</td>\n",
       "      <td>-</td>\n",
       "      <td>70.80.84.76</td>\n",
       "      <td>Mozilla/4.0+(compatible;+MSIE+6.0;+Windows+NT+...</td>\n",
       "      <td>http://www.hotelTulip.com.hk/Tulip/home/en-us/...</td>\n",
       "      <td>200</td>\n",
       "      <td>0</td>\n",
       "      <td>0</td>\n",
       "    </tr>\n",
       "    <tr>\n",
       "      <th>3</th>\n",
       "      <td>2006-11-01</td>\n",
       "      <td>1900-01-01 00:00:09</td>\n",
       "      <td>W3SVC1</td>\n",
       "      <td>127.0.0.1</td>\n",
       "      <td>GET</td>\n",
       "      <td>/Tulip/common/en-us/images/top_img.jpg</td>\n",
       "      <td>-</td>\n",
       "      <td>80</td>\n",
       "      <td>-</td>\n",
       "      <td>70.80.84.76</td>\n",
       "      <td>Mozilla/4.0+(compatible;+MSIE+6.0;+Windows+NT+...</td>\n",
       "      <td>http://www.hotelTulip.com.hk/Tulip/home/en-us/...</td>\n",
       "      <td>200</td>\n",
       "      <td>0</td>\n",
       "      <td>0</td>\n",
       "    </tr>\n",
       "    <tr>\n",
       "      <th>4</th>\n",
       "      <td>2006-11-01</td>\n",
       "      <td>1900-01-01 00:00:09</td>\n",
       "      <td>W3SVC1</td>\n",
       "      <td>127.0.0.1</td>\n",
       "      <td>GET</td>\n",
       "      <td>/Tulip/common/en-us/images/top_logo.gif</td>\n",
       "      <td>-</td>\n",
       "      <td>80</td>\n",
       "      <td>-</td>\n",
       "      <td>70.80.84.76</td>\n",
       "      <td>Mozilla/4.0+(compatible;+MSIE+6.0;+Windows+NT+...</td>\n",
       "      <td>http://www.hotelTulip.com.hk/Tulip/home/en-us/...</td>\n",
       "      <td>200</td>\n",
       "      <td>0</td>\n",
       "      <td>0</td>\n",
       "    </tr>\n",
       "  </tbody>\n",
       "</table>\n",
       "</div>"
      ],
      "text/plain": [
       "        date                time s-sitename       s-ip cs-method  \\\n",
       "0 2006-11-01 1900-01-01 00:00:08     W3SVC1  127.0.0.1       GET   \n",
       "1 2006-11-01 1900-01-01 00:00:08     W3SVC1  127.0.0.1       GET   \n",
       "2 2006-11-01 1900-01-01 00:00:09     W3SVC1  127.0.0.1       GET   \n",
       "3 2006-11-01 1900-01-01 00:00:09     W3SVC1  127.0.0.1       GET   \n",
       "4 2006-11-01 1900-01-01 00:00:09     W3SVC1  127.0.0.1       GET   \n",
       "\n",
       "                               cs-uri-stem cs-uri-query s-port cs-username  \\\n",
       "0        /Tulip/home/en-us/home_index.aspx            -     80           -   \n",
       "1         /Tulip/includes/js/CommonUtil.js            -     80           -   \n",
       "2          /Tulip/common/common_style.aspx   lang=en-us     80           -   \n",
       "3   /Tulip/common/en-us/images/top_img.jpg            -     80           -   \n",
       "4  /Tulip/common/en-us/images/top_logo.gif            -     80           -   \n",
       "\n",
       "          c-ip                                     cs(User-Agent)  \\\n",
       "0  70.80.84.76  Mozilla/4.0+(compatible;+MSIE+6.0;+Windows+NT+...   \n",
       "1  70.80.84.76  Mozilla/4.0+(compatible;+MSIE+6.0;+Windows+NT+...   \n",
       "2  70.80.84.76  Mozilla/4.0+(compatible;+MSIE+6.0;+Windows+NT+...   \n",
       "3  70.80.84.76  Mozilla/4.0+(compatible;+MSIE+6.0;+Windows+NT+...   \n",
       "4  70.80.84.76  Mozilla/4.0+(compatible;+MSIE+6.0;+Windows+NT+...   \n",
       "\n",
       "                                         cs(Referer) sc-status sc-substatus  \\\n",
       "0                                                  -       200            0   \n",
       "1  http://www.hotelTulip.com.hk/Tulip/home/en-us/...       200            0   \n",
       "2  http://www.hotelTulip.com.hk/Tulip/home/en-us/...       200            0   \n",
       "3  http://www.hotelTulip.com.hk/Tulip/home/en-us/...       200            0   \n",
       "4  http://www.hotelTulip.com.hk/Tulip/home/en-us/...       200            0   \n",
       "\n",
       "  sc-win32-status  \n",
       "0               0  \n",
       "1               0  \n",
       "2               0  \n",
       "3               0  \n",
       "4               0  "
      ]
     },
     "execution_count": 7,
     "metadata": {
      "tags": []
     },
     "output_type": "execute_result"
    }
   ],
   "source": [
    "#Save data in dataframe\n",
    "ColumnNames=['date','time','s-sitename','s-ip','cs-method','cs-uri-stem','cs-uri-query','s-port','cs-username',\n",
    "             'c-ip','cs(User-Agent)','cs(Referer)','sc-status','sc-substatus','sc-win32-status'] \n",
    "df_data = pd.DataFrame(rows, columns = ColumnNames)\n",
    "#Changing datatype for date and time\n",
    "df_data['date'] = pd.to_datetime(df_data['date'], format='%Y-%m-%d')\n",
    "df_data['time'] = pd.to_datetime(df_data['time'],format= '%H:%M:%S' )\n",
    "print(\"Number of records in web_log:\",len(df_data))\n",
    "df_data.head()"
   ]
  },
  {
   "cell_type": "markdown",
   "metadata": {
    "id": "SmbO0UE1KrvL"
   },
   "source": [
    "In order to reduce the processing time, we will remove all missing values for data and only select 30% of total data for classification. \n",
    "\n",
    "**Code**: \n",
    "    1. Remove all NAs, for the columns, if the column is with 15% NAs, you need to remove that column. Then, for the rows, if there are any NAs in that row, you need to remove that row (requests)  \n",
    "    2. select 30\\% of the total data in to a new dataframe weblog_df.\n",
    "    \n",
    "    *Keep the outputs for code in your notebook.\n",
    "\n",
    "**Report**:\n",
    "    The number of requests in weblog\\_df.\n"
   ]
  },
  {
   "cell_type": "code",
   "execution_count": null,
   "metadata": {
    "id": "F8Xt0Zdh9gtY",
    "outputId": "19f2e0c2-156b-4949-b9da-a7aab60891fa"
   },
   "outputs": [
    {
     "name": "stdout",
     "output_type": "stream",
     "text": [
      "cs-uri-query 7886425 93%\n",
      "cs-username 8438806 100%\n",
      "cs(User-Agent) 3527 0%\n",
      "cs(Referer) 1308918 16%\n"
     ]
    }
   ],
   "source": [
    "#Your code to remove missing values as required.\n",
    "# As Nan in data is represented by \"-\"\"\n",
    "# Checking number of NaNs and dropping columns with NaNs > 15%\n",
    "for column in ColumnNames:\n",
    "#     print (column)\n",
    "    if (len(df_data[df_data[column]=='-'])) > 0:\n",
    "        frac = float(len(df_data[df_data[column]=='-']))/float(len(df_data))\n",
    "        print( column, (len(df_data[df_data[column]=='-'])), \"{0:.0%}\".format(frac))\n",
    "        if frac >= 0.15:\n",
    "            if column != 'cs(Referer)':\n",
    "                df_data.drop(column, axis=1, inplace=True)"
   ]
  },
  {
   "cell_type": "code",
   "execution_count": null,
   "metadata": {
    "id": "H3aaodQM9mTB",
    "outputId": "a7d88a66-8ce0-4494-c963-2a8d45e759d7"
   },
   "outputs": [
    {
     "name": "stdout",
     "output_type": "stream",
     "text": [
      "7129841\n"
     ]
    }
   ],
   "source": [
    "# Removing Rows with NaNs\n",
    "df_data = df_data[df_data != '-']\n",
    "df_data.dropna(inplace=True)\n",
    "\n",
    "print(len(df_data))"
   ]
  },
  {
   "cell_type": "code",
   "execution_count": null,
   "metadata": {
    "id": "EkHE_MAn9pTe",
    "outputId": "dd4f5ac6-e08d-4e88-9603-30a71d94bca5"
   },
   "outputs": [
    {
     "name": "stdout",
     "output_type": "stream",
     "text": [
      "Number of requests: 2138952\n"
     ]
    }
   ],
   "source": [
    "# only 30% of total data are selected for classification\n",
    "weblog_df = df_data.sample(frac = 0.3, random_state=1)\n",
    "weblog_df.reset_index(inplace = True)\n",
    "\n",
    "#Your code to show the number of requests in weblog_df\n",
    "print(\"Number of requests:\",np.shape(weblog_df)[0])\n"
   ]
  },
  {
   "cell_type": "markdown",
   "metadata": {
    "id": "qaKs1Ic5Ln8F"
   },
   "source": [
    "### 1.2 Feature Selection\n",
    "\n",
    "**Code**: \n",
    "    You are required to select *'cs_method'*,*'cs_ip'*,*'cs_uri_stem'*,*'cs(Referer)'* as input features  and 'sc_status' as class label into a new dataframe ml_df for following Machine Learning Tasks. \n",
    "\n",
    "*Keep the outputs for code in your notebook.\n",
    "\n",
    "**Report**:\n",
    "    1. Data Description of ml_df,  \n",
    "    2. Print top 5 rows of ml_df.\n",
    "\n"
   ]
  },
  {
   "cell_type": "code",
   "execution_count": null,
   "metadata": {
    "id": "VC6cvSj-9uP5",
    "outputId": "cbe4a38c-fbd8-43b8-e7f3-9708b400b7ce"
   },
   "outputs": [
    {
     "data": {
      "text/html": [
       "<div>\n",
       "<style scoped>\n",
       "    .dataframe tbody tr th:only-of-type {\n",
       "        vertical-align: middle;\n",
       "    }\n",
       "\n",
       "    .dataframe tbody tr th {\n",
       "        vertical-align: top;\n",
       "    }\n",
       "\n",
       "    .dataframe thead th {\n",
       "        text-align: right;\n",
       "    }\n",
       "</style>\n",
       "<table border=\"1\" class=\"dataframe\">\n",
       "  <thead>\n",
       "    <tr style=\"text-align: right;\">\n",
       "      <th></th>\n",
       "      <th>cs-method</th>\n",
       "      <th>c-ip</th>\n",
       "      <th>cs-uri-stem</th>\n",
       "      <th>cs(Referer)</th>\n",
       "      <th>sc-status</th>\n",
       "    </tr>\n",
       "  </thead>\n",
       "  <tbody>\n",
       "    <tr>\n",
       "      <th>0</th>\n",
       "      <td>GET</td>\n",
       "      <td>61.15.94.164</td>\n",
       "      <td>/Tulip/common/zh-hk/images/sectionbanner_dinin...</td>\n",
       "      <td>http://www.hotelTulip.com.hk/Tulip/whatsnew/wh...</td>\n",
       "      <td>200</td>\n",
       "    </tr>\n",
       "    <tr>\n",
       "      <th>1</th>\n",
       "      <td>GET</td>\n",
       "      <td>210.17.168.249</td>\n",
       "      <td>/Tulip/dining/zh-hk/images/btn_reserveATable.gif</td>\n",
       "      <td>http://www.hotelTulip.com.hk/Tulip/whatsnew/wh...</td>\n",
       "      <td>200</td>\n",
       "    </tr>\n",
       "    <tr>\n",
       "      <th>2</th>\n",
       "      <td>GET</td>\n",
       "      <td>59.188.33.66</td>\n",
       "      <td>/Tulip/common/en-us/images/sectionbanner_about...</td>\n",
       "      <td>http://www.hotelTulip.com.hk/Tulip/home/en-us/...</td>\n",
       "      <td>304</td>\n",
       "    </tr>\n",
       "    <tr>\n",
       "      <th>3</th>\n",
       "      <td>GET</td>\n",
       "      <td>59.188.33.37</td>\n",
       "      <td>/Tulip/common/en-us/images/sectionbanner_recru...</td>\n",
       "      <td>http://www.hotelTulip.com.hk/Tulip/home/en-us/...</td>\n",
       "      <td>200</td>\n",
       "    </tr>\n",
       "    <tr>\n",
       "      <th>4</th>\n",
       "      <td>GET</td>\n",
       "      <td>219.79.107.203</td>\n",
       "      <td>/Tulip/common/images/trans.gif</td>\n",
       "      <td>http://www.hotelTulip.com.hk/Tulip/recruitment...</td>\n",
       "      <td>200</td>\n",
       "    </tr>\n",
       "  </tbody>\n",
       "</table>\n",
       "</div>"
      ],
      "text/plain": [
       "  cs-method            c-ip  \\\n",
       "0       GET    61.15.94.164   \n",
       "1       GET  210.17.168.249   \n",
       "2       GET    59.188.33.66   \n",
       "3       GET    59.188.33.37   \n",
       "4       GET  219.79.107.203   \n",
       "\n",
       "                                         cs-uri-stem  \\\n",
       "0  /Tulip/common/zh-hk/images/sectionbanner_dinin...   \n",
       "1   /Tulip/dining/zh-hk/images/btn_reserveATable.gif   \n",
       "2  /Tulip/common/en-us/images/sectionbanner_about...   \n",
       "3  /Tulip/common/en-us/images/sectionbanner_recru...   \n",
       "4                     /Tulip/common/images/trans.gif   \n",
       "\n",
       "                                         cs(Referer) sc-status  \n",
       "0  http://www.hotelTulip.com.hk/Tulip/whatsnew/wh...       200  \n",
       "1  http://www.hotelTulip.com.hk/Tulip/whatsnew/wh...       200  \n",
       "2  http://www.hotelTulip.com.hk/Tulip/home/en-us/...       304  \n",
       "3  http://www.hotelTulip.com.hk/Tulip/home/en-us/...       200  \n",
       "4  http://www.hotelTulip.com.hk/Tulip/recruitment...       200  "
      ]
     },
     "execution_count": 11,
     "metadata": {
      "tags": []
     },
     "output_type": "execute_result"
    }
   ],
   "source": [
    "# Your code for feature selection\n",
    "ml_df = weblog_df[['cs-method', 'c-ip', 'cs-uri-stem', 'cs(Referer)','sc-status']]\n",
    "# ml_df.to_csv('ml_data.csv', index = False)\n",
    "\n",
    "#Your code to show the top 5 rows of ml_df\n",
    "ml_df.head(5)"
   ]
  },
  {
   "cell_type": "code",
   "execution_count": null,
   "metadata": {
    "id": "V52AKekT9xip",
    "outputId": "5c83d9d7-1b28-4dbe-82f8-c531cf1acafc"
   },
   "outputs": [
    {
     "data": {
      "text/html": [
       "<div>\n",
       "<style scoped>\n",
       "    .dataframe tbody tr th:only-of-type {\n",
       "        vertical-align: middle;\n",
       "    }\n",
       "\n",
       "    .dataframe tbody tr th {\n",
       "        vertical-align: top;\n",
       "    }\n",
       "\n",
       "    .dataframe thead th {\n",
       "        text-align: right;\n",
       "    }\n",
       "</style>\n",
       "<table border=\"1\" class=\"dataframe\">\n",
       "  <thead>\n",
       "    <tr style=\"text-align: right;\">\n",
       "      <th></th>\n",
       "      <th>cs-method</th>\n",
       "      <th>c-ip</th>\n",
       "      <th>cs-uri-stem</th>\n",
       "      <th>cs(Referer)</th>\n",
       "      <th>sc-status</th>\n",
       "    </tr>\n",
       "  </thead>\n",
       "  <tbody>\n",
       "    <tr>\n",
       "      <th>count</th>\n",
       "      <td>2138952</td>\n",
       "      <td>2138952</td>\n",
       "      <td>2138952</td>\n",
       "      <td>2138952</td>\n",
       "      <td>2138952</td>\n",
       "    </tr>\n",
       "    <tr>\n",
       "      <th>unique</th>\n",
       "      <td>3</td>\n",
       "      <td>58254</td>\n",
       "      <td>2316</td>\n",
       "      <td>24408</td>\n",
       "      <td>9</td>\n",
       "    </tr>\n",
       "    <tr>\n",
       "      <th>top</th>\n",
       "      <td>GET</td>\n",
       "      <td>59.188.33.66</td>\n",
       "      <td>/Tulip/common/common_style.aspx</td>\n",
       "      <td>http://www.hotelTulip.com.hk/Tulip/home/en-us/...</td>\n",
       "      <td>200</td>\n",
       "    </tr>\n",
       "    <tr>\n",
       "      <th>freq</th>\n",
       "      <td>2135502</td>\n",
       "      <td>25126</td>\n",
       "      <td>118813</td>\n",
       "      <td>485941</td>\n",
       "      <td>1571465</td>\n",
       "    </tr>\n",
       "  </tbody>\n",
       "</table>\n",
       "</div>"
      ],
      "text/plain": [
       "       cs-method          c-ip                      cs-uri-stem  \\\n",
       "count    2138952       2138952                          2138952   \n",
       "unique         3         58254                             2316   \n",
       "top          GET  59.188.33.66  /Tulip/common/common_style.aspx   \n",
       "freq     2135502         25126                           118813   \n",
       "\n",
       "                                              cs(Referer) sc-status  \n",
       "count                                             2138952   2138952  \n",
       "unique                                              24408         9  \n",
       "top     http://www.hotelTulip.com.hk/Tulip/home/en-us/...       200  \n",
       "freq                                               485941   1571465  "
      ]
     },
     "execution_count": 12,
     "metadata": {
      "tags": []
     },
     "output_type": "execute_result"
    }
   ],
   "source": [
    "# display data description\n",
    "ml_df.describe()"
   ]
  },
  {
   "cell_type": "markdown",
   "metadata": {
    "id": "1j3dndKNMgDO"
   },
   "source": [
    "## 2.Unsupervised Learning\n",
    " You are required to complete this part only using **sklearn**.\n",
    "\n",
    "\n",
    "**Code**: \n",
    "    1. Perform unsupervised learning on ml_df with K Means, with a varying K from 2 to 10;\n",
    "    2. Plot in the elbow plot. \n",
    "    \n",
    "    *Keep the outputs for code in your notebook.\n",
    "\n",
    "**Report**:\n",
    "    1. Figure 'KMeans' in the elbow plot, with a varying K from 2 to 10.\n",
    "\n"
   ]
  },
  {
   "cell_type": "code",
   "execution_count": null,
   "metadata": {
    "id": "Qy3hLpYx5f5k"
   },
   "outputs": [],
   "source": [
    "import matplotlib.pyplot as plt\n",
    "%matplotlib inline \n",
    "from sklearn.cluster import KMeans\n",
    "from sklearn import preprocessing"
   ]
  },
  {
   "cell_type": "code",
   "execution_count": null,
   "metadata": {
    "id": "Ig4KbdCaDvRG",
    "outputId": "7d9b6162-c719-4ab9-c31c-a5c14d36c4bb"
   },
   "outputs": [
    {
     "name": "stdout",
     "output_type": "stream",
     "text": [
      "K =  2 , Accuracy:0.419944\n",
      "K =  3 , Accuracy:0.220812\n",
      "K =  4 , Accuracy:0.200310\n",
      "K =  5 , Accuracy:0.204351\n",
      "K =  6 , Accuracy:0.221138\n",
      "K =  7 , Accuracy:0.131089\n",
      "K =  8 , Accuracy:0.146734\n",
      "K =  9 , Accuracy:0.112867\n",
      "K =  10 , Accuracy:0.140552\n"
     ]
    }
   ],
   "source": [
    "# le_df = ml_df.apply(preprocessing.LabelEncoder().fit_transform)\n",
    "from sklearn.model_selection import cross_val_score\n",
    "from sklearn.model_selection import train_test_split\n",
    "from sklearn.metrics import accuracy_score\n",
    "\n",
    "le_df = ml_df.apply(preprocessing.LabelEncoder().fit_transform)\n",
    "# print(le_df.head(7))\n",
    "\n",
    "#Separating feature and label, and spliting in test/train data\n",
    "y = le_df['sc-status']\n",
    "X = le_df.drop(columns = 'sc-status')\n",
    "X_train, X_test,y_train,y_test =  train_test_split(X,y,test_size=0.30,random_state=70)\n",
    "\n",
    "\n",
    "for k in range(2,11):\n",
    "    k_means = KMeans(n_clusters=k)\n",
    "    k_means.fit(X_train)\n",
    "    score = accuracy_score(y_test,k_means.predict(X_test))\n",
    "    print(\"K = \",k,', Accuracy:{0:f}'.format(score))"
   ]
  },
  {
   "cell_type": "code",
   "execution_count": null,
   "metadata": {
    "id": "4kUo5QgqD5xM",
    "outputId": "aac80ad3-8712-48c7-e4f6-9d49b985a406"
   },
   "outputs": [
    {
     "data": {
      "image/png": "[encoded data removed]",
      "text/plain": [
       "<Figure size 1152x576 with 1 Axes>"
      ]
     },
     "metadata": {
      "needs_background": "light",
      "tags": []
     },
     "output_type": "display_data"
    }
   ],
   "source": [
    "#Your code for Kmeans\n",
    "\n",
    "distortions = []\n",
    "K = range(2,11)\n",
    "for k in K:\n",
    "#     print(k)\n",
    "    kmeanModel = KMeans(n_clusters=k)\n",
    "    kmeanModel.fit(le_df)\n",
    "    distortions.append(kmeanModel.inertia_)\n",
    "    \n",
    "#Your code for visualizing K means result as elbow plot.\n",
    "\n",
    "plt.figure(figsize=(16,8))\n",
    "plt.plot(K, distortions, 'bx-')\n",
    "plt.xlabel('k')\n",
    "plt.ylabel('Distortion')\n",
    "plt.title('The Elbow Method showing the optimal k')\n",
    "plt.show()"
   ]
  },
  {
   "cell_type": "markdown",
   "metadata": {
    "id": "dU6zSmu0OEHC"
   },
   "source": [
    "## 3.Supervised Learning\n",
    " You are required to complete this part only using **PySpark**.\n"
   ]
  },
  {
   "cell_type": "code",
   "execution_count": null,
   "metadata": {
    "id": "Vszuth-US7eB"
   },
   "outputs": [],
   "source": [
    "# import io\n",
    "# import pandas as pd\n",
    "# ml_df = pd.read_csv(io.BytesIO(uploaded['ml_data.csv']))\n",
    "# ml_df.rename(columns={'sc-status': 'label'},  inplace=True)\n",
    "\n",
    "# le_df = ml_df.apply(preprocessing.LabelEncoder().fit_transform)"
   ]
  },
  {
   "cell_type": "code",
   "execution_count": null,
   "metadata": {
    "id": "l-gfnQnz5f5l"
   },
   "outputs": [],
   "source": [
    "# install Java8\n",
    "!apt-get install openjdk-8-jdk-headless -qq > /dev/null\n",
    "# download spark 3.1.1\n",
    "!wget -q http://apache.osuosl.org/spark/spark-3.1.1/spark-3.1.1-bin-hadoop3.2.tgz\n",
    "# unzip it\n",
    "!tar xf spark-3.1.1-bin-hadoop3.2.tgz\n",
    "# install findspark \n",
    "!pip install -q findspark\n",
    "\n",
    "import os\n",
    "os.environ[\"JAVA_HOME\"] = \"/usr/lib/jvm/java-8-openjdk-amd64\"\n",
    "os.environ[\"SPARK_HOME\"] = \"/content/spark-3.1.1-bin-hadoop3.2\"\n",
    "\n",
    "import findspark \n",
    "findspark.init() "
   ]
  },
  {
   "cell_type": "code",
   "execution_count": null,
   "metadata": {
    "id": "HRzcbPF4Pskq"
   },
   "outputs": [],
   "source": [
    "from pyspark.sql import SparkSession \n",
    "from pyspark.sql.types import *\n",
    "\n",
    "spark = SparkSession.builder.appName('SIT742T2').getOrCreate()"
   ]
  },
  {
   "cell_type": "markdown",
   "metadata": {
    "id": "RncKyIESOMnJ"
   },
   "source": [
    "### 3.1 Data Preparation \n",
    "\n",
    "In order to reduce the processing time, we will select 10% of le_df."
   ]
  },
  {
   "cell_type": "code",
   "execution_count": null,
   "metadata": {
    "id": "DE23Ll_fOS5J"
   },
   "outputs": [],
   "source": [
    "schema = StructType([StructField(\"label\", IntegerType(), True),\n",
    "                     StructField(\"cs-method\", IntegerType(), True),\n",
    "                     StructField(\"c-ip\", IntegerType(), True),\n",
    "                     StructField(\"cs-uri-stem\", IntegerType(), True),\n",
    "                     StructField(\"cs(Referer)\", IntegerType(), True)])\n",
    "\n",
    "lr_df = spark.createDataFrame(le_df, schema)"
   ]
  },
  {
   "cell_type": "code",
   "execution_count": null,
   "metadata": {
    "id": "dJdQe_8tPvlF"
   },
   "outputs": [],
   "source": [
    "#Only 10% of the data is used in this part.\n",
    "\n",
    "lr_df = le_df.sample(frac=0.1, random_state=1)"
   ]
  },
  {
   "cell_type": "code",
   "execution_count": null,
   "metadata": {
    "id": "pCdBBxT9GhD1"
   },
   "outputs": [],
   "source": [
    "from pyspark.sql import SQLContext\n",
    "from pyspark import SparkConf, SparkContext\n",
    "sc = SparkContext.getOrCreate()\n",
    "sqlContext = SQLContext(sc)\n",
    "\n",
    "lr_df = sqlContext.createDataFrame(lr_df)"
   ]
  },
  {
   "cell_type": "code",
   "execution_count": null,
   "metadata": {
    "colab": {
     "base_uri": "https://localhost:8080/"
    },
    "id": "Ut3zjBOyU2FU",
    "outputId": "288a2e13-d184-4a16-835a-787a2893636e"
   },
   "outputs": [
    {
     "name": "stdout",
     "output_type": "stream",
     "text": [
      "+---------+-----+-----------+-----------+-----+--------------------+\n",
      "|cs-method| c-ip|cs-uri-stem|cs(Referer)|label|            features|\n",
      "+---------+-----+-----------+-----------+-----+--------------------+\n",
      "|        0|30423|       1908|      23876|    4|[0.0,30423.0,1908...|\n",
      "|        0|57101|       1235|      23635|    0|[0.0,57101.0,1235...|\n",
      "|        0|13517|       1635|      23596|    4|[0.0,13517.0,1635...|\n",
      "+---------+-----+-----------+-----------+-----+--------------------+\n",
      "only showing top 3 rows\n",
      "\n"
     ]
    }
   ],
   "source": [
    "from pyspark.ml.linalg import Vectors\n",
    "from pyspark.ml.feature import VectorAssembler\n",
    "# transformer\n",
    "vector_assembler = VectorAssembler(inputCols=['cs-method', 'c-ip', 'cs-uri-stem', 'cs(Referer)'],outputCol=\"features\")\n",
    "df_temp = vector_assembler.transform(lr_df )\n",
    "df_temp.show(3)"
   ]
  },
  {
   "cell_type": "code",
   "execution_count": null,
   "metadata": {
    "colab": {
     "base_uri": "https://localhost:8080/"
    },
    "id": "JBoKE5tYVdXj",
    "outputId": "903d60f3-2d84-4807-9ec8-2a536ea9cb22"
   },
   "outputs": [
    {
     "name": "stdout",
     "output_type": "stream",
     "text": [
      "+-----+--------------------+\n",
      "|label|            features|\n",
      "+-----+--------------------+\n",
      "|    4|[0.0,30423.0,1908...|\n",
      "|    0|[0.0,57101.0,1235...|\n",
      "|    4|[0.0,13517.0,1635...|\n",
      "+-----+--------------------+\n",
      "only showing top 3 rows\n",
      "\n"
     ]
    }
   ],
   "source": [
    "df_lr = df_temp.drop('cs-method', 'c-ip', 'cs-uri-stem', 'cs(Referer)')\n",
    "df_lr.show(3)"
   ]
  },
  {
   "cell_type": "markdown",
   "metadata": {
    "id": "12YtMZE0OTOR"
   },
   "source": [
    "###  3.2 Logistic Regression\n",
    "\n",
    " <div class=\"alert alert-block alert-info\">\n",
    "\n",
    "**Code**: \n",
    "    1. Perform supervised learning on ml\\_df with Logistic Regression,  <br>\n",
    "    2. Evaluate the classification result using [confusion matrix ](https://en.wikipedia.org/wiki/Confusion_matrix) including TP, TN, FP, FN, <br>\n",
    "    3. Evaluate the classification result using Precision, Recall and F1 score.\n",
    "    <br>\n",
    "    *Keep the outputs for code in your notebook.\n",
    "\n",
    "**Report**:\n",
    "    1. Display the classification result using [confusion matrix ](https://en.wikipedia.org/wiki/Confusion_matrix) including TP, TN, FP, FN, <br>\n",
    "    2. Display the classification result using Precision, Recall and F1 score.\n",
    "</div>"
   ]
  },
  {
   "cell_type": "code",
   "execution_count": null,
   "metadata": {
    "id": "M_XZqsSAOr4a"
   },
   "outputs": [],
   "source": [
    "#Create the data sets for training and testing\n",
    "(trainingData, testData) = df_lr.randomSplit([0.7, 0.3])"
   ]
  },
  {
   "cell_type": "code",
   "execution_count": null,
   "metadata": {
    "colab": {
     "base_uri": "https://localhost:8080/"
    },
    "id": "19Ri7rpuOxk6",
    "outputId": "6c4a078b-af76-4356-b217-fe9251fb30c7"
   },
   "outputs": [
    {
     "name": "stdout",
     "output_type": "stream",
     "text": [
      "Coefficients: DenseMatrix([[ 2.03305677e+00,  1.05914573e-06, -2.61774825e-04,\n",
      "               8.43303766e-05],\n",
      "             [-3.82369874e+00,  1.60005012e-05,  6.87158448e-04,\n",
      "               7.90392713e-06],\n",
      "             [-6.53536472e-02,  1.89968878e-06, -7.67088474e-05,\n",
      "               8.61857517e-06],\n",
      "             [ 8.63567908e+00, -1.45118631e-05, -1.38753053e-03,\n",
      "              -2.20843653e-05],\n",
      "             [-9.11379637e+00,  4.10760386e-06, -4.39283715e-04,\n",
      "               5.98101277e-05],\n",
      "             [ 6.76353410e+00, -1.94789751e-06, -2.15503450e-05,\n",
      "              -2.59899497e-05],\n",
      "             [-4.41766740e-02, -2.71900276e-08,  2.36135973e-05,\n",
      "               1.93693953e-06],\n",
      "             [-1.26695438e+01, -9.11803460e-06,  2.02338772e-03,\n",
      "              -1.97439015e-05],\n",
      "             [ 8.28429930e+00,  2.53804567e-06, -5.47311503e-04,\n",
      "              -9.47817295e-05]])\n",
      "Intercept: [6.72379082458658,-0.033392658029387366,-3.8896838077767906,-0.040719001376263546,6.421261514460642,-3.2125466601061246,-4.299767393830518,0.6540407991378097,-2.3229836170659457]\n"
     ]
    }
   ],
   "source": [
    "from sklearn import preprocessing\n",
    "from sklearn.model_selection import train_test_split\n",
    "from pyspark.ml.classification import LogisticRegression\n",
    "\n",
    "# Your code contains trainning from train data and predicting based on the test data\n",
    "\n",
    "lr = LogisticRegression(featuresCol = 'features', labelCol = 'sc-status', maxIter=50)\n",
    "lrModel = lr.fit(trainingData)\n",
    "\n",
    "print(\"Coefficients: \" + str(lrModel.coefficientMatrix ))\n",
    "print(\"Intercept: \" + str(lrModel.interceptVector ))"
   ]
  },
  {
   "cell_type": "code",
   "execution_count": null,
   "metadata": {
    "colab": {
     "base_uri": "https://localhost:8080/"
    },
    "id": "guKn1M3iLlhf",
    "outputId": "ed7c31fd-3b29-46bb-be7f-bf53dae18b3a"
   },
   "outputs": [
    {
     "name": "stdout",
     "output_type": "stream",
     "text": [
      "+---------+--------------------+--------------------+--------------------+----------+\n",
      "|sc-status|            features|       rawPrediction|         probability|prediction|\n",
      "+---------+--------------------+--------------------+--------------------+----------+\n",
      "|        0|[0.0,0.0,1245.0,2...|[8.32702286229783...|[0.74489887660397...|       0.0|\n",
      "|        0|[0.0,3.0,1211.0,2...|[8.39428300436353...|[0.74725912791923...|       0.0|\n",
      "|        0|[0.0,4.0,1449.0,2...|[8.26864954242177...|[0.75003196371123...|       0.0|\n",
      "|        0|[0.0,4.0,1747.0,2...|[8.25962289269416...|[0.76028473128780...|       0.0|\n",
      "|        0|[0.0,15.0,1270.0,...|[8.33938438321828...|[0.74667675280251...|       0.0|\n",
      "|        0|[0.0,15.0,1272.0,...|[8.32115145448859...|[0.74571711738672...|       0.0|\n",
      "|        0|[0.0,15.0,1444.0,...|[8.35742066765427...|[0.75492254812300...|       0.0|\n",
      "|        0|[0.0,17.0,1200.0,...|[8.33882073488727...|[0.74360113422821...|       0.0|\n",
      "|        0|[0.0,17.0,1272.0,...|[8.31997294750803...|[0.74564819210755...|       0.0|\n",
      "|        0|[0.0,19.0,1238.0,...|[8.39288216565838...|[0.74834382330728...|       0.0|\n",
      "+---------+--------------------+--------------------+--------------------+----------+\n",
      "only showing top 10 rows\n",
      "\n"
     ]
    }
   ],
   "source": [
    "predictions = lrModel.transform(testData)\n",
    "predictions.show(10)\n",
    "trainingSummary = lrModel.summary\n",
    "y_true = predictions.select(['sc-status']).collect()\n",
    "y_pred = predictions.select(['prediction']).collect()"
   ]
  },
  {
   "cell_type": "code",
   "execution_count": null,
   "metadata": {
    "colab": {
     "base_uri": "https://localhost:8080/",
     "height": 406
    },
    "id": "66ESM5L3O1cp",
    "outputId": "343ed767-8447-4bd3-c2ba-2d2515108278"
   },
   "outputs": [
    {
     "name": "stdout",
     "output_type": "stream",
     "text": [
      "[[46889    43     3     3 16825   282     0]\n",
      " [    0     0     0     0     0     0     0]\n",
      " [    0     0     0     0     0     0     0]\n",
      " [   14     0     0    59     0     0     1]\n",
      " [    0     0     0     0     0     0     0]\n",
      " [    0     0     0     0     0     0     0]\n",
      " [    0     0     0     0     0     0     0]]\n"
     ]
    },
    {
     "data": {
      "image/png": "[encoded data removed]",
      "text/plain": [
       "<Figure size 432x288 with 2 Axes>"
      ]
     },
     "metadata": {
      "needs_background": "light",
      "tags": []
     },
     "output_type": "display_data"
    }
   ],
   "source": [
    "# Your code to display TP, TN, FP, FN\n",
    "from sklearn.metrics import confusion_matrix\n",
    "cm = confusion_matrix(y_pred, y_true)\n",
    "print(cm)\n",
    "fig = plt.figure()\n",
    "ax = fig.add_subplot(111)\n",
    "cax = ax.matshow(cm)\n",
    "plt.title('Confusion matrix')\n",
    "fig.colorbar(cax)\n",
    "plt.xlabel('Predicted')\n",
    "plt.ylabel('True')\n",
    "plt.show()"
   ]
  },
  {
   "cell_type": "code",
   "execution_count": null,
   "metadata": {
    "colab": {
     "base_uri": "https://localhost:8080/"
    },
    "id": "9BZB16gVO2pq",
    "outputId": "a516e91e-a088-43e6-a2ec-f38b8ac29717"
   },
   "outputs": [
    {
     "name": "stdout",
     "output_type": "stream",
     "text": [
      "              precision    recall  f1-score   support\n",
      "\n",
      "           0       0.73      1.00      0.85     46903\n",
      "           1       0.00      0.00      0.00        43\n",
      "           2       0.00      0.00      0.00         3\n",
      "           3       0.80      0.95      0.87        62\n",
      "           4       0.00      0.00      0.00     16825\n",
      "           7       0.00      0.00      0.00       282\n",
      "           8       0.00      0.00      0.00         1\n",
      "\n",
      "    accuracy                           0.73     64119\n",
      "   macro avg       0.22      0.28      0.24     64119\n",
      "weighted avg       0.54      0.73      0.62     64119\n",
      "\n"
     ]
    }
   ],
   "source": [
    "from sklearn.metrics import classification_report\n",
    "\n",
    "# Your Code to display the classification results as required.\n",
    "print(classification_report(y_true, y_pred))"
   ]
  },
  {
   "cell_type": "markdown",
   "metadata": {
    "id": "vt5iA23HO5uC"
   },
   "source": [
    "### 3.3 K-fold Cross-Validation\n",
    "You are required to use K-fold cross validation to find out the best hyper-parameter set, where K = 2.\n",
    "<div class=\"alert alert-block alert-info\">\n",
    "\n",
    "**Code**: \n",
    "Implement 2-fold cross validation for three (any three) classification models, where K = 2.\n",
    "    <br>\n",
    "    *Keep the outputs for code in your notebook.\n",
    "\n",
    "**Report**:\n",
    "    1.  Your code design and running results, <br>\n",
    "\t\t2.  Your findings on hyper-parameters based on this cross-validation  results (Best results).\n",
    "</div>"
   ]
  },
  {
   "cell_type": "code",
   "execution_count": null,
   "metadata": {
    "colab": {
     "base_uri": "https://localhost:8080/"
    },
    "id": "WtCvkUXerd-f",
    "outputId": "8fdf1659-c284-4e4a-9c8c-caca133125a1"
   },
   "outputs": [
    {
     "name": "stdout",
     "output_type": "stream",
     "text": [
      "+-----+--------------------+\n",
      "|label|            features|\n",
      "+-----+--------------------+\n",
      "|    0|[0.0,0.0,1050.0,2...|\n",
      "|    0|[0.0,0.0,1245.0,2...|\n",
      "|    0|[0.0,0.0,1245.0,2...|\n",
      "|    0|[0.0,3.0,1270.0,2...|\n",
      "|    0|[0.0,5.0,1246.0,2...|\n",
      "|    0|[0.0,7.0,1045.0,2...|\n",
      "|    0|[0.0,7.0,1247.0,2...|\n",
      "|    0|[0.0,14.0,1273.0,...|\n",
      "|    0|[0.0,15.0,1233.0,...|\n",
      "|    0|[0.0,15.0,1444.0,...|\n",
      "|    0|[0.0,15.0,2032.0,...|\n",
      "|    0|[0.0,16.0,1040.0,...|\n",
      "|    0|[0.0,17.0,1234.0,...|\n",
      "|    0|[0.0,17.0,1272.0,...|\n",
      "|    0|[0.0,19.0,1238.0,...|\n",
      "|    0|[0.0,19.0,1478.0,...|\n",
      "|    0|[0.0,21.0,1285.0,...|\n",
      "|    0|[0.0,21.0,1663.0,...|\n",
      "|    0|[0.0,22.0,1248.0,...|\n",
      "|    0|[0.0,23.0,1200.0,...|\n",
      "+-----+--------------------+\n",
      "only showing top 20 rows\n",
      "\n"
     ]
    }
   ],
   "source": [
    "# tData = trainingData\n",
    "# tData = tData.selectExpr(\"'sc-status' as label\", \"features as features\")\n",
    "trainingData.show()"
   ]
  },
  {
   "cell_type": "code",
   "execution_count": null,
   "metadata": {
    "id": "ljibYVC5uiFD"
   },
   "outputs": [],
   "source": [
    "from pyspark.ml import Pipeline\n",
    "from pyspark.ml.classification import RandomForestClassifier,LogisticRegression,DecisionTreeClassifier\n",
    "from pyspark.ml.evaluation import MulticlassClassificationEvaluator, RegressionEvaluator\n",
    "from pyspark.ml.tuning import ParamGridBuilder, CrossValidator\n",
    "import numpy as np\n"
   ]
  },
  {
   "cell_type": "code",
   "execution_count": null,
   "metadata": {
    "id": "bXicSnvgv4AB"
   },
   "outputs": [],
   "source": [
    "# K = 2\n",
    "# Your code for 2-fold cross validation\n",
    "\n",
    "#Models\n",
    "# Random Forest, Logistic Regression\n",
    "rf = RandomForestClassifier(featuresCol = 'features')\n",
    "lr = LogisticRegression(featuresCol = 'features')\n",
    "dt = DecisionTreeClassifier(featuresCol = 'features')\n",
    "\n",
    "# Pipelines\n",
    "pipeline_rf = Pipeline(stages=[vector_assembler, rf])\n",
    "pipeline_lr = Pipeline(stages=[vector_assembler, lr])\n",
    "pipeline_dt = Pipeline(stages=[vector_assembler, dt])\n",
    "\n",
    "#ParamGrids\n",
    "paramGrid_rf = ParamGridBuilder() \\\n",
    "    .addGrid(rf.numTrees, [int(x) for x in np.linspace(start = 10, stop = 50, num = 3)]) \\\n",
    "    .addGrid(rf.maxDepth, [int(x) for x in np.linspace(start = 5, stop = 25, num = 3)]) \\\n",
    "    .build()\n",
    "\n",
    "paramGrid_lr = ParamGridBuilder()\\\n",
    "    .addGrid(lr.aggregationDepth,[2,5,10])\\\n",
    "    .addGrid(lr.elasticNetParam,[0.0, 0.5, 1.0])\\\n",
    "    .addGrid(lr.fitIntercept,[False, True])\\\n",
    "    .addGrid(lr.maxIter,[10, 15, 30])\\\n",
    "    .addGrid(lr.regParam,[0.01, 0.5, 2.0]) \\\n",
    "    .build()\n",
    "\n",
    "paramGrid_dt =   (ParamGridBuilder()\n",
    "             .addGrid(dt.maxDepth, [5, 10, 20])\n",
    "             .addGrid(dt.maxBins, [10, 20, 40])\n",
    "             .build())\n",
    "\n",
    "#CrossVals\n",
    "crossval_rf = CrossValidator(estimator=rf,\n",
    "                          estimatorParamMaps=paramGrid_rf,\n",
    "                          evaluator=MulticlassClassificationEvaluator(),\n",
    "                          numFolds=2)\n",
    "\n",
    "crossval_lr = CrossValidator(estimator=lr,\n",
    "                          estimatorParamMaps=paramGrid_lr,\n",
    "                          evaluator=MulticlassClassificationEvaluator(),\n",
    "                          numFolds=2)\n",
    "\n",
    "crossval_df = CrossValidator(estimator = dt,\n",
    "                      estimatorParamMaps = paramGrid_dt,\n",
    "                      evaluator = MulticlassClassificationEvaluator(),\n",
    "                      numFolds = 2)\n",
    "\n",
    "#Prediction Models\n",
    "cvModel_rf = crossval_rf.fit(trainingData)\n",
    "cvModel_lr = crossval_lr.fit(trainingData)\n",
    "cvModel_dt = crossval_df.fit(trainingData)"
   ]
  },
  {
   "cell_type": "code",
   "execution_count": null,
   "metadata": {
    "colab": {
     "base_uri": "https://localhost:8080/"
    },
    "id": "g_ZJsMC1wSSQ",
    "outputId": "d45fff0b-618c-4889-bd62-70da1a8f882c"
   },
   "outputs": [
    {
     "name": "stdout",
     "output_type": "stream",
     "text": [
      "Random Forest Parameters\n",
      "numTrees -  50\n",
      "maxDepth -  25\n",
      "\n",
      "\n",
      "Decision Tree Parameters\n",
      "maxDepth -  10\n",
      "maxBins -  40\n",
      "\n",
      "\n",
      "Logistic Regression Parameters\n",
      "aggregationDepth -  2\n",
      "fitIntercept -  True\n",
      "maxIter -  10\n",
      "regParam -  0.01\n"
     ]
    }
   ],
   "source": [
    "#Predictions\n",
    "predictions_rf = cvModel_rf.transform(testData)\n",
    "predictions_lr = cvModel_lr.transform(testData)\n",
    "predictions_dt = cvModel_dt.transform(testData)\n",
    "\n",
    "# Best parameters\n",
    "bestPipeline_rf = cvModel_rf.bestModel\n",
    "bestPipeline_lr = cvModel_lr.bestModel\n",
    "bestPipeline_dt = cvModel_dt.bestModel\n",
    "# Best Parameters\n",
    "print(\"Random Forest Parameters\")\n",
    "print('numTrees - ', bestPipeline_rf.getNumTrees)\n",
    "print('maxDepth - ', bestPipeline_rf.getOrDefault('maxDepth'))\n",
    "print(\"\\n\")\n",
    "print(\"Decision Tree Parameters\")\n",
    "print('maxDepth - ', bestPipeline_dt.getOrDefault('maxDepth'))\n",
    "print('maxBins - ', bestPipeline_dt.getOrDefault('maxBins'))\n",
    "print(\"\\n\")\n",
    "print(\"Logistic Regression Parameters\")\n",
    "print('aggregationDepth - ', bestPipeline_lr.getOrDefault('aggregationDepth'))\n",
    "print('fitIntercept - ', bestPipeline_lr.getOrDefault('fitIntercept'))\n",
    "print('maxIter - ', bestPipeline_lr.getOrDefault('maxIter'))\n",
    "print('regParam - ', bestPipeline_lr.getOrDefault('regParam'))"
   ]
  },
  {
   "cell_type": "markdown",
   "metadata": {
    "id": "-ThOmZbnPyMa"
   },
   "source": [
    "## 4.Association Rule Mining\n",
    "<div class=\"alert alert-block alert-info\">\n",
    "\n",
    "**Code**: \n",
    "Implement association rule mining with a suitable threshold for support, and confidence \n",
    "    <br>\n",
    "    *Keep the outputs for code in your notebook.\n",
    "\n",
    "**Report**:\n",
    "    1.  Your code design and running results, <br>\n",
    "\t\t2.  Your findings on on ARMing results.\n",
    "</div>"
   ]
  },
  {
   "cell_type": "code",
   "execution_count": null,
   "metadata": {
    "colab": {
     "base_uri": "https://localhost:8080/"
    },
    "id": "VtZ5-w3tQJDl",
    "outputId": "ab6d10d6-ed2e-4c39-e1d1-6542084be02f"
   },
   "outputs": [
    {
     "name": "stdout",
     "output_type": "stream",
     "text": [
      "Collecting apyori\n",
      "  Downloading https://files.pythonhosted.org/packages/5e/62/5ffde5c473ea4b033490617ec5caa80d59804875ad3c3c57c0976533a21a/apyori-1.1.2.tar.gz\n",
      "Building wheels for collected packages: apyori\n",
      "  Building wheel for apyori (setup.py) ... \u001b[?25l\u001b[?25hdone\n",
      "  Created wheel for apyori: filename=apyori-1.1.2-cp37-none-any.whl size=5975 sha256=fd82f92cac62069f9a63a29c2182b24997ab8efe376f2d08c012389c3fd7e691\n",
      "  Stored in directory: /root/.cache/pip/wheels/5d/92/bb/474bbadbc8c0062b9eb168f69982a0443263f8ab1711a8cad0\n",
      "Successfully built apyori\n",
      "Installing collected packages: apyori\n",
      "Successfully installed apyori-1.1.2\n"
     ]
    }
   ],
   "source": [
    "!pip install apyori"
   ]
  },
  {
   "cell_type": "code",
   "execution_count": null,
   "metadata": {
    "id": "97TBSPWNpMn9"
   },
   "outputs": [],
   "source": [
    "weblog_df2 = df_data.sample(frac = 0.1, random_state=1)\n",
    "# weblog_df2.columns"
   ]
  },
  {
   "cell_type": "code",
   "execution_count": null,
   "metadata": {
    "id": "jYoW1cjE5f5q",
    "outputId": "8a598b20-3354-47a7-cb26-8c52ac3a91e8"
   },
   "outputs": [
    {
     "name": "stdout",
     "output_type": "stream",
     "text": [
      "28\n"
     ]
    }
   ],
   "source": [
    "# you can also use PySpark package, if preferred\n",
    "from apyori import apriori\n",
    "\n",
    "# Selecting 10% data for ARM and 6 features\n",
    "weblog_df = df_data.sample(frac = 0.1, random_state=1)\n",
    "arm_df = weblog_df[['cs-method','cs-uri-stem','c-ip','cs(User-Agent)','cs(Referer)','sc-status','sc-win32-status']]\n",
    "\n",
    "# Your code\n",
    "results = arm_df.values.tolist()\n",
    "association_rules = apriori(results, min_support=0.085, min_confidence=0.4, min_lift=1, min_length=3)\n",
    "association_results = list(association_rules)\n",
    "print(len(association_results))\n"
   ]
  },
  {
   "cell_type": "code",
   "execution_count": null,
   "metadata": {
    "id": "zIu1gNePpMn-",
    "outputId": "95a9a22a-2491-4989-d11a-df1ff6d8ab4b"
   },
   "outputs": [
    {
     "data": {
      "text/plain": [
       "[['304', 'GET', '0'],\n",
       " ['GET', '0', '200'],\n",
       " ['GET', 'Mozilla/4.0+(compatible;+MSIE+6.0;+Windows+NT+5.1;+SV1)', '0'],\n",
       " ['GET',\n",
       "  'Mozilla/4.0+(compatible;+MSIE+6.0;+Windows+NT+5.1;+SV1)',\n",
       "  '0',\n",
       "  '200'],\n",
       " ['GET', 'Mozilla/4.0+(compatible;+MSIE+6.0;+Windows+NT+5.1;+SV1)', '200'],\n",
       " ['GET',\n",
       "  'Mozilla/4.0+(compatible;+MSIE+6.0;+Windows+NT+5.1;+SV1;+.NET+CLR+1.1.4322)',\n",
       "  '0']]"
      ]
     },
     "execution_count": 87,
     "metadata": {
      "tags": []
     },
     "output_type": "execute_result"
    }
   ],
   "source": [
    "import itertools\n",
    "\n",
    "# Sorting by Support and Confidence using a Dataframe\n",
    "df = pd.DataFrame(columns=('Items','Support','Confidence','Lift'))\n",
    "\n",
    "Support =[]\n",
    "Confidence = []\n",
    "Lift = []\n",
    "Items = []\n",
    "Antecedent = []\n",
    "Consequent=[]\n",
    "\n",
    "for RelationRecord in association_results:\n",
    "    for ordered_stat in RelationRecord.ordered_statistics:\n",
    "        Support.append(RelationRecord.support)\n",
    "        Items.append(RelationRecord.items)\n",
    "        Confidence.append(ordered_stat.confidence)\n",
    "        Lift.append(ordered_stat.lift)\n",
    "\n",
    "df['Items'] = list(map(set, Items))                                   \n",
    "df['Support'] = Support\n",
    "df['Confidence'] = Confidence\n",
    "df['Lift']= Lift\n",
    "\n",
    "df.sort_values([\"Support\", \"Confidence\"], ascending = (False, True), inplace = True)\n",
    "df.reset_index(inplace=True)\n",
    "\n",
    "# Storing in a list and removing duplicates\n",
    "items = []\n",
    "for x in df['Items'].to_list():\n",
    "    if (len(list(x))) > 2:\n",
    "        items.append(list(x))\n",
    "\n",
    "items.sort()\n",
    "items = list(items for items,_ in itertools.groupby(items))\n",
    "items = items[:6]\n",
    "items\n",
    "#Selecting top 5 rules with"
   ]
  },
  {
   "cell_type": "markdown",
   "metadata": {
    "id": "REp-ATy8gGyS"
   },
   "source": [
    "\n",
    "\n",
    "```\n",
    "`# This is formatted as code`\n",
    "```\n",
    "\n",
    "## 5.Crawl Gang Li citation information from 2003 to 2021"
   ]
  },
  {
   "cell_type": "markdown",
   "metadata": {
    "id": "99Y04DfvFMGO"
   },
   "source": [
    " <div class=\"alert alert-block alert-info\">\n",
    "\n",
    "**Code**: \n",
    "    You are required to write the code to generate the csv for Gang Li's citation from 2003 to 2021\n",
    "    <br>\n",
    "    *Keep the outputs for code in your notebook.\n",
    "</div>"
   ]
  },
  {
   "cell_type": "code",
   "execution_count": null,
   "metadata": {
    "colab": {
     "base_uri": "https://localhost:8080/"
    },
    "id": "ZRy3ByFBIb5M",
    "outputId": "79050453-84b2-4229-a83e-3af54b2b8f30"
   },
   "outputs": [
    {
     "name": "stdout",
     "output_type": "stream",
     "text": [
      "Collecting selenium\n",
      "\u001b[?25l  Downloading https://files.pythonhosted.org/packages/80/d6/4294f0b4bce4de0abf13e17190289f9d0613b0a44e5dd6a7f5ca98459853/selenium-3.141.0-py2.py3-none-any.whl (904kB)\n",
      "\r",
      "\u001b[K     |▍                               | 10kB 18.8MB/s eta 0:00:01\r",
      "\u001b[K     |▊                               | 20kB 18.2MB/s eta 0:00:01\r",
      "\u001b[K     |█                               | 30kB 15.1MB/s eta 0:00:01\r",
      "\u001b[K     |█▌                              | 40kB 13.8MB/s eta 0:00:01\r",
      "\u001b[K     |█▉                              | 51kB 7.9MB/s eta 0:00:01\r",
      "\u001b[K     |██▏                             | 61kB 9.3MB/s eta 0:00:01\r",
      "\u001b[K     |██▌                             | 71kB 8.7MB/s eta 0:00:01\r",
      "\u001b[K     |███                             | 81kB 9.7MB/s eta 0:00:01\r",
      "\u001b[K     |███▎                            | 92kB 9.2MB/s eta 0:00:01\r",
      "\u001b[K     |███▋                            | 102kB 7.6MB/s eta 0:00:01\r",
      "\u001b[K     |████                            | 112kB 7.6MB/s eta 0:00:01\r",
      "\u001b[K     |████▍                           | 122kB 7.6MB/s eta 0:00:01\r",
      "\u001b[K     |████▊                           | 133kB 7.6MB/s eta 0:00:01\r",
      "\u001b[K     |█████                           | 143kB 7.6MB/s eta 0:00:01\r",
      "\u001b[K     |█████▍                          | 153kB 7.6MB/s eta 0:00:01\r",
      "\u001b[K     |█████▉                          | 163kB 7.6MB/s eta 0:00:01\r",
      "\u001b[K     |██████▏                         | 174kB 7.6MB/s eta 0:00:01\r",
      "\u001b[K     |██████▌                         | 184kB 7.6MB/s eta 0:00:01\r",
      "\u001b[K     |██████▉                         | 194kB 7.6MB/s eta 0:00:01\r",
      "\u001b[K     |███████▎                        | 204kB 7.6MB/s eta 0:00:01\r",
      "\u001b[K     |███████▋                        | 215kB 7.6MB/s eta 0:00:01\r",
      "\u001b[K     |████████                        | 225kB 7.6MB/s eta 0:00:01\r",
      "\u001b[K     |████████▎                       | 235kB 7.6MB/s eta 0:00:01\r",
      "\u001b[K     |████████▊                       | 245kB 7.6MB/s eta 0:00:01\r",
      "\u001b[K     |█████████                       | 256kB 7.6MB/s eta 0:00:01\r",
      "\u001b[K     |█████████▍                      | 266kB 7.6MB/s eta 0:00:01\r",
      "\u001b[K     |█████████▉                      | 276kB 7.6MB/s eta 0:00:01\r",
      "\u001b[K     |██████████▏                     | 286kB 7.6MB/s eta 0:00:01\r",
      "\u001b[K     |██████████▌                     | 296kB 7.6MB/s eta 0:00:01\r",
      "\u001b[K     |██████████▉                     | 307kB 7.6MB/s eta 0:00:01\r",
      "\u001b[K     |███████████▎                    | 317kB 7.6MB/s eta 0:00:01\r",
      "\u001b[K     |███████████▋                    | 327kB 7.6MB/s eta 0:00:01\r",
      "\u001b[K     |████████████                    | 337kB 7.6MB/s eta 0:00:01\r",
      "\u001b[K     |████████████▎                   | 348kB 7.6MB/s eta 0:00:01\r",
      "\u001b[K     |████████████▊                   | 358kB 7.6MB/s eta 0:00:01\r",
      "\u001b[K     |█████████████                   | 368kB 7.6MB/s eta 0:00:01\r",
      "\u001b[K     |█████████████▍                  | 378kB 7.6MB/s eta 0:00:01\r",
      "\u001b[K     |█████████████▊                  | 389kB 7.6MB/s eta 0:00:01\r",
      "\u001b[K     |██████████████▏                 | 399kB 7.6MB/s eta 0:00:01\r",
      "\u001b[K     |██████████████▌                 | 409kB 7.6MB/s eta 0:00:01\r",
      "\u001b[K     |██████████████▉                 | 419kB 7.6MB/s eta 0:00:01\r",
      "\u001b[K     |███████████████▏                | 430kB 7.6MB/s eta 0:00:01\r",
      "\u001b[K     |███████████████▋                | 440kB 7.6MB/s eta 0:00:01\r",
      "\u001b[K     |████████████████                | 450kB 7.6MB/s eta 0:00:01\r",
      "\u001b[K     |████████████████▎               | 460kB 7.6MB/s eta 0:00:01\r",
      "\u001b[K     |████████████████▋               | 471kB 7.6MB/s eta 0:00:01\r",
      "\u001b[K     |█████████████████               | 481kB 7.6MB/s eta 0:00:01\r",
      "\u001b[K     |█████████████████▍              | 491kB 7.6MB/s eta 0:00:01\r",
      "\u001b[K     |█████████████████▊              | 501kB 7.6MB/s eta 0:00:01\r",
      "\u001b[K     |██████████████████▏             | 512kB 7.6MB/s eta 0:00:01\r",
      "\u001b[K     |██████████████████▌             | 522kB 7.6MB/s eta 0:00:01\r",
      "\u001b[K     |██████████████████▉             | 532kB 7.6MB/s eta 0:00:01\r",
      "\u001b[K     |███████████████████▏            | 542kB 7.6MB/s eta 0:00:01\r",
      "\u001b[K     |███████████████████▋            | 552kB 7.6MB/s eta 0:00:01\r",
      "\u001b[K     |████████████████████            | 563kB 7.6MB/s eta 0:00:01\r",
      "\u001b[K     |████████████████████▎           | 573kB 7.6MB/s eta 0:00:01\r",
      "\u001b[K     |████████████████████▋           | 583kB 7.6MB/s eta 0:00:01\r",
      "\u001b[K     |█████████████████████           | 593kB 7.6MB/s eta 0:00:01\r",
      "\u001b[K     |█████████████████████▍          | 604kB 7.6MB/s eta 0:00:01\r",
      "\u001b[K     |█████████████████████▊          | 614kB 7.6MB/s eta 0:00:01\r",
      "\u001b[K     |██████████████████████          | 624kB 7.6MB/s eta 0:00:01\r",
      "\u001b[K     |██████████████████████▌         | 634kB 7.6MB/s eta 0:00:01\r",
      "\u001b[K     |██████████████████████▉         | 645kB 7.6MB/s eta 0:00:01\r",
      "\u001b[K     |███████████████████████▏        | 655kB 7.6MB/s eta 0:00:01\r",
      "\u001b[K     |███████████████████████▌        | 665kB 7.6MB/s eta 0:00:01\r",
      "\u001b[K     |████████████████████████        | 675kB 7.6MB/s eta 0:00:01\r",
      "\u001b[K     |████████████████████████▎       | 686kB 7.6MB/s eta 0:00:01\r",
      "\u001b[K     |████████████████████████▋       | 696kB 7.6MB/s eta 0:00:01\r",
      "\u001b[K     |█████████████████████████       | 706kB 7.6MB/s eta 0:00:01\r",
      "\u001b[K     |█████████████████████████▍      | 716kB 7.6MB/s eta 0:00:01\r",
      "\u001b[K     |█████████████████████████▊      | 727kB 7.6MB/s eta 0:00:01\r",
      "\u001b[K     |██████████████████████████      | 737kB 7.6MB/s eta 0:00:01\r",
      "\u001b[K     |██████████████████████████▍     | 747kB 7.6MB/s eta 0:00:01\r",
      "\u001b[K     |██████████████████████████▉     | 757kB 7.6MB/s eta 0:00:01\r",
      "\u001b[K     |███████████████████████████▏    | 768kB 7.6MB/s eta 0:00:01\r",
      "\u001b[K     |███████████████████████████▌    | 778kB 7.6MB/s eta 0:00:01\r",
      "\u001b[K     |████████████████████████████    | 788kB 7.6MB/s eta 0:00:01\r",
      "\u001b[K     |████████████████████████████▎   | 798kB 7.6MB/s eta 0:00:01\r",
      "\u001b[K     |████████████████████████████▋   | 808kB 7.6MB/s eta 0:00:01\r",
      "\u001b[K     |█████████████████████████████   | 819kB 7.6MB/s eta 0:00:01\r",
      "\u001b[K     |█████████████████████████████▍  | 829kB 7.6MB/s eta 0:00:01\r",
      "\u001b[K     |█████████████████████████████▊  | 839kB 7.6MB/s eta 0:00:01\r",
      "\u001b[K     |██████████████████████████████  | 849kB 7.6MB/s eta 0:00:01\r",
      "\u001b[K     |██████████████████████████████▍ | 860kB 7.6MB/s eta 0:00:01\r",
      "\u001b[K     |██████████████████████████████▉ | 870kB 7.6MB/s eta 0:00:01\r",
      "\u001b[K     |███████████████████████████████▏| 880kB 7.6MB/s eta 0:00:01\r",
      "\u001b[K     |███████████████████████████████▌| 890kB 7.6MB/s eta 0:00:01\r",
      "\u001b[K     |███████████████████████████████▉| 901kB 7.6MB/s eta 0:00:01\r",
      "\u001b[K     |████████████████████████████████| 911kB 7.6MB/s \n",
      "\u001b[?25hRequirement already satisfied: urllib3 in /usr/local/lib/python3.7/dist-packages (from selenium) (1.24.3)\n",
      "Installing collected packages: selenium\n",
      "Successfully installed selenium-3.141.0\n",
      "Ign:1 https://developer.download.nvidia.com/compute/cuda/repos/ubuntu1804/x86_64  InRelease\n",
      "Get:2 https://cloud.r-project.org/bin/linux/ubuntu bionic-cran40/ InRelease [3,626 B]\n",
      "Ign:3 https://developer.download.nvidia.com/compute/machine-learning/repos/ubuntu1804/x86_64  InRelease\n",
      "Get:4 https://developer.download.nvidia.com/compute/cuda/repos/ubuntu1804/x86_64  Release [697 B]\n",
      "Hit:5 https://developer.download.nvidia.com/compute/machine-learning/repos/ubuntu1804/x86_64  Release\n",
      "Get:6 https://developer.download.nvidia.com/compute/cuda/repos/ubuntu1804/x86_64  Release.gpg [836 B]\n",
      "Hit:7 http://archive.ubuntu.com/ubuntu bionic InRelease\n",
      "Get:8 http://security.ubuntu.com/ubuntu bionic-security InRelease [88.7 kB]\n",
      "Get:9 https://cloud.r-project.org/bin/linux/ubuntu bionic-cran40/ Packages [56.8 kB]\n",
      "Get:10 http://archive.ubuntu.com/ubuntu bionic-updates InRelease [88.7 kB]\n",
      "Get:12 http://ppa.launchpad.net/c2d4u.team/c2d4u4.0+/ubuntu bionic InRelease [15.9 kB]\n",
      "Ign:13 https://developer.download.nvidia.com/compute/cuda/repos/ubuntu1804/x86_64  Packages\n",
      "Get:13 https://developer.download.nvidia.com/compute/cuda/repos/ubuntu1804/x86_64  Packages [772 kB]\n",
      "Get:14 http://archive.ubuntu.com/ubuntu bionic-backports InRelease [74.6 kB]\n",
      "Hit:15 http://ppa.launchpad.net/cran/libgit2/ubuntu bionic InRelease\n",
      "Get:16 http://security.ubuntu.com/ubuntu bionic-security/main amd64 Packages [2,150 kB]\n",
      "Hit:17 http://ppa.launchpad.net/deadsnakes/ppa/ubuntu bionic InRelease\n",
      "Get:18 http://ppa.launchpad.net/graphics-drivers/ppa/ubuntu bionic InRelease [21.3 kB]\n",
      "Get:19 http://security.ubuntu.com/ubuntu bionic-security/universe amd64 Packages [1,411 kB]\n",
      "Get:20 http://archive.ubuntu.com/ubuntu bionic-updates/universe amd64 Packages [2,183 kB]\n",
      "Get:21 http://security.ubuntu.com/ubuntu bionic-security/restricted amd64 Packages [423 kB]\n",
      "Get:22 http://ppa.launchpad.net/c2d4u.team/c2d4u4.0+/ubuntu bionic/main Sources [1,767 kB]\n",
      "Get:23 http://archive.ubuntu.com/ubuntu bionic-updates/main amd64 Packages [2,582 kB]\n",
      "Get:24 http://archive.ubuntu.com/ubuntu bionic-updates/restricted amd64 Packages [452 kB]\n",
      "Get:25 http://ppa.launchpad.net/c2d4u.team/c2d4u4.0+/ubuntu bionic/main amd64 Packages [904 kB]\n",
      "Get:26 http://ppa.launchpad.net/graphics-drivers/ppa/ubuntu bionic/main amd64 Packages [41.5 kB]\n",
      "Fetched 13.0 MB in 5s (2,888 kB/s)\n",
      "Reading package lists... Done\n",
      "Reading package lists... Done\n",
      "Building dependency tree       \n",
      "Reading state information... Done\n",
      "The following package was automatically installed and is no longer required:\n",
      "  libnvidia-common-460\n",
      "Use 'apt autoremove' to remove it.\n",
      "The following additional packages will be installed:\n",
      "  chromium-browser chromium-browser-l10n chromium-codecs-ffmpeg-extra\n",
      "Suggested packages:\n",
      "  webaccounts-chromium-extension unity-chromium-extension\n",
      "The following NEW packages will be installed:\n",
      "  chromium-browser chromium-browser-l10n chromium-chromedriver\n",
      "  chromium-codecs-ffmpeg-extra\n",
      "0 upgraded, 4 newly installed, 0 to remove and 64 not upgraded.\n",
      "Need to get 86.6 MB of archives.\n",
      "After this operation, 300 MB of additional disk space will be used.\n",
      "Get:1 http://archive.ubuntu.com/ubuntu bionic-updates/universe amd64 chromium-codecs-ffmpeg-extra amd64 90.0.4430.93-0ubuntu0.18.04.1 [1,128 kB]\n",
      "Get:2 http://archive.ubuntu.com/ubuntu bionic-updates/universe amd64 chromium-browser amd64 90.0.4430.93-0ubuntu0.18.04.1 [76.9 MB]\n",
      "Get:3 http://archive.ubuntu.com/ubuntu bionic-updates/universe amd64 chromium-browser-l10n all 90.0.4430.93-0ubuntu0.18.04.1 [3,853 kB]\n",
      "Get:4 http://archive.ubuntu.com/ubuntu bionic-updates/universe amd64 chromium-chromedriver amd64 90.0.4430.93-0ubuntu0.18.04.1 [4,743 kB]\n",
      "Fetched 86.6 MB in 6s (15.7 MB/s)\n",
      "Selecting previously unselected package chromium-codecs-ffmpeg-extra.\n",
      "(Reading database ... 160706 files and directories currently installed.)\n",
      "Preparing to unpack .../chromium-codecs-ffmpeg-extra_90.0.4430.93-0ubuntu0.18.04.1_amd64.deb ...\n",
      "Unpacking chromium-codecs-ffmpeg-extra (90.0.4430.93-0ubuntu0.18.04.1) ...\n",
      "Selecting previously unselected package chromium-browser.\n",
      "Preparing to unpack .../chromium-browser_90.0.4430.93-0ubuntu0.18.04.1_amd64.deb ...\n",
      "Unpacking chromium-browser (90.0.4430.93-0ubuntu0.18.04.1) ...\n",
      "Selecting previously unselected package chromium-browser-l10n.\n",
      "Preparing to unpack .../chromium-browser-l10n_90.0.4430.93-0ubuntu0.18.04.1_all.deb ...\n",
      "Unpacking chromium-browser-l10n (90.0.4430.93-0ubuntu0.18.04.1) ...\n",
      "Selecting previously unselected package chromium-chromedriver.\n",
      "Preparing to unpack .../chromium-chromedriver_90.0.4430.93-0ubuntu0.18.04.1_amd64.deb ...\n",
      "Unpacking chromium-chromedriver (90.0.4430.93-0ubuntu0.18.04.1) ...\n",
      "Setting up chromium-codecs-ffmpeg-extra (90.0.4430.93-0ubuntu0.18.04.1) ...\n",
      "Setting up chromium-browser (90.0.4430.93-0ubuntu0.18.04.1) ...\n",
      "update-alternatives: using /usr/bin/chromium-browser to provide /usr/bin/x-www-browser (x-www-browser) in auto mode\n",
      "update-alternatives: using /usr/bin/chromium-browser to provide /usr/bin/gnome-www-browser (gnome-www-browser) in auto mode\n",
      "Setting up chromium-chromedriver (90.0.4430.93-0ubuntu0.18.04.1) ...\n",
      "Setting up chromium-browser-l10n (90.0.4430.93-0ubuntu0.18.04.1) ...\n",
      "Processing triggers for man-db (2.8.3-2ubuntu0.1) ...\n",
      "Processing triggers for hicolor-icon-theme (0.17-2) ...\n",
      "Processing triggers for mime-support (3.60ubuntu1) ...\n",
      "Processing triggers for libc-bin (2.27-3ubuntu1.2) ...\n",
      "/sbin/ldconfig.real: /usr/local/lib/python3.7/dist-packages/ideep4py/lib/libmkldnn.so.0 is not a symbolic link\n",
      "\n",
      "cp: '/usr/lib/chromium-browser/chromedriver' and '/usr/bin/chromedriver' are the same file\n"
     ]
    }
   ],
   "source": [
    " !pip install selenium\n",
    "!apt-get update # to update ubuntu to correctly run apt install\n",
    "!apt install chromium-chromedriver\n",
    "!cp /usr/lib/chromium-browser/chromedriver /usr/bin\n",
    "import sys\n",
    "sys.path.insert(0,'/usr/lib/chromium-browser/chromedriver')\n",
    "\n",
    "from selenium import webdriver\n",
    "from selenium.webdriver.common.keys import Keys\n",
    "from bs4 import BeautifulSoup\n",
    "chrome_options = webdriver.ChromeOptions()\n",
    "chrome_options.add_argument('--headless')\n",
    "chrome_options.add_argument('--no-sandbox')\n",
    "chrome_options.add_argument('--disable-dev-shm-usage')\n",
    "from selenium.webdriver.common.by import By\n",
    "from selenium.webdriver.support.ui import WebDriverWait\n",
    "from selenium.webdriver.support import expected_conditions as EC\n",
    "from collections import defaultdict\n",
    "\n",
    "import itertools"
   ]
  },
  {
   "cell_type": "code",
   "execution_count": null,
   "metadata": {
    "colab": {
     "base_uri": "https://localhost:8080/"
    },
    "id": "elVdoLYUInS1",
    "outputId": "9ad6086e-d25f-4e1b-81b3-e8a2c83e1a97"
   },
   "outputs": [
    {
     "data": {
      "text/plain": [
       "(['2003',\n",
       "  '2004',\n",
       "  '2005',\n",
       "  '2006',\n",
       "  '2007',\n",
       "  '2008',\n",
       "  '2009',\n",
       "  '2010',\n",
       "  '2011',\n",
       "  '2012',\n",
       "  '2013',\n",
       "  '2014',\n",
       "  '2015',\n",
       "  '2016',\n",
       "  '2017',\n",
       "  '2018',\n",
       "  '2019',\n",
       "  '2020',\n",
       "  '2021'],\n",
       " ['15',\n",
       "  '34',\n",
       "  '17',\n",
       "  '11',\n",
       "  '33',\n",
       "  '41',\n",
       "  '57',\n",
       "  '68',\n",
       "  '106',\n",
       "  '129',\n",
       "  '172',\n",
       "  '251',\n",
       "  '289',\n",
       "  '339',\n",
       "  '386',\n",
       "  '451',\n",
       "  '579',\n",
       "  '835',\n",
       "  '310'])"
      ]
     },
     "execution_count": 3,
     "metadata": {
      "tags": []
     },
     "output_type": "execute_result"
    }
   ],
   "source": [
    "from selenium.common.exceptions import TimeoutException,StaleElementReferenceException\n",
    "def get_citations(url):\n",
    "    \"\"\"Get Citation deatils from Google Scholar\"\"\"\n",
    "    driver = webdriver.Chrome('chromedriver',options=chrome_options)\n",
    "    driver.get(url)\n",
    "    page_soup = BeautifulSoup(driver.page_source,'lxml');\n",
    "    tbl_id = \"gsc_a_t\"\n",
    "    div_id = \"gsc_md_hist_b\"\n",
    "    div = page_soup.find(\"div\",{\"class\":div_id})\n",
    "\n",
    "    year = [year.text for year in div.find_all('span','gsc_g_t')]\n",
    "    citations = [cit.text for cit in div.find_all('span','gsc_g_al')]\n",
    "    \n",
    "            \n",
    "    \n",
    "    return year,citations\n",
    "\n",
    "year, cit = get_citations('https://scholar.google.com/citations?hl=en&user=dqwjm-0AAAAJ')\n",
    "year, cit"
   ]
  },
  {
   "cell_type": "code",
   "execution_count": null,
   "metadata": {
    "colab": {
     "base_uri": "https://localhost:8080/",
     "height": 610
    },
    "id": "KH5IYWpFIscE",
    "outputId": "9e26dd76-815d-42e3-e921-118c06238bb2"
   },
   "outputs": [
    {
     "data": {
      "text/html": [
       "<div>\n",
       "<style scoped>\n",
       "    .dataframe tbody tr th:only-of-type {\n",
       "        vertical-align: middle;\n",
       "    }\n",
       "\n",
       "    .dataframe tbody tr th {\n",
       "        vertical-align: top;\n",
       "    }\n",
       "\n",
       "    .dataframe thead th {\n",
       "        text-align: right;\n",
       "    }\n",
       "</style>\n",
       "<table border=\"1\" class=\"dataframe\">\n",
       "  <thead>\n",
       "    <tr style=\"text-align: right;\">\n",
       "      <th></th>\n",
       "      <th>year</th>\n",
       "      <th>citation</th>\n",
       "    </tr>\n",
       "  </thead>\n",
       "  <tbody>\n",
       "    <tr>\n",
       "      <th>0</th>\n",
       "      <td>2003</td>\n",
       "      <td>15</td>\n",
       "    </tr>\n",
       "    <tr>\n",
       "      <th>1</th>\n",
       "      <td>2004</td>\n",
       "      <td>34</td>\n",
       "    </tr>\n",
       "    <tr>\n",
       "      <th>2</th>\n",
       "      <td>2005</td>\n",
       "      <td>17</td>\n",
       "    </tr>\n",
       "    <tr>\n",
       "      <th>3</th>\n",
       "      <td>2006</td>\n",
       "      <td>11</td>\n",
       "    </tr>\n",
       "    <tr>\n",
       "      <th>4</th>\n",
       "      <td>2007</td>\n",
       "      <td>33</td>\n",
       "    </tr>\n",
       "    <tr>\n",
       "      <th>5</th>\n",
       "      <td>2008</td>\n",
       "      <td>41</td>\n",
       "    </tr>\n",
       "    <tr>\n",
       "      <th>6</th>\n",
       "      <td>2009</td>\n",
       "      <td>57</td>\n",
       "    </tr>\n",
       "    <tr>\n",
       "      <th>7</th>\n",
       "      <td>2010</td>\n",
       "      <td>68</td>\n",
       "    </tr>\n",
       "    <tr>\n",
       "      <th>8</th>\n",
       "      <td>2011</td>\n",
       "      <td>106</td>\n",
       "    </tr>\n",
       "    <tr>\n",
       "      <th>9</th>\n",
       "      <td>2012</td>\n",
       "      <td>129</td>\n",
       "    </tr>\n",
       "    <tr>\n",
       "      <th>10</th>\n",
       "      <td>2013</td>\n",
       "      <td>172</td>\n",
       "    </tr>\n",
       "    <tr>\n",
       "      <th>11</th>\n",
       "      <td>2014</td>\n",
       "      <td>251</td>\n",
       "    </tr>\n",
       "    <tr>\n",
       "      <th>12</th>\n",
       "      <td>2015</td>\n",
       "      <td>289</td>\n",
       "    </tr>\n",
       "    <tr>\n",
       "      <th>13</th>\n",
       "      <td>2016</td>\n",
       "      <td>339</td>\n",
       "    </tr>\n",
       "    <tr>\n",
       "      <th>14</th>\n",
       "      <td>2017</td>\n",
       "      <td>386</td>\n",
       "    </tr>\n",
       "    <tr>\n",
       "      <th>15</th>\n",
       "      <td>2018</td>\n",
       "      <td>451</td>\n",
       "    </tr>\n",
       "    <tr>\n",
       "      <th>16</th>\n",
       "      <td>2019</td>\n",
       "      <td>579</td>\n",
       "    </tr>\n",
       "    <tr>\n",
       "      <th>17</th>\n",
       "      <td>2020</td>\n",
       "      <td>835</td>\n",
       "    </tr>\n",
       "    <tr>\n",
       "      <th>18</th>\n",
       "      <td>2021</td>\n",
       "      <td>310</td>\n",
       "    </tr>\n",
       "  </tbody>\n",
       "</table>\n",
       "</div>"
      ],
      "text/plain": [
       "    year citation\n",
       "0   2003       15\n",
       "1   2004       34\n",
       "2   2005       17\n",
       "3   2006       11\n",
       "4   2007       33\n",
       "5   2008       41\n",
       "6   2009       57\n",
       "7   2010       68\n",
       "8   2011      106\n",
       "9   2012      129\n",
       "10  2013      172\n",
       "11  2014      251\n",
       "12  2015      289\n",
       "13  2016      339\n",
       "14  2017      386\n",
       "15  2018      451\n",
       "16  2019      579\n",
       "17  2020      835\n",
       "18  2021      310"
      ]
     },
     "execution_count": 9,
     "metadata": {
      "tags": []
     },
     "output_type": "execute_result"
    }
   ],
   "source": [
    "# Your code to crawl and generate the csv, and save it to variable create_df\n",
    "#import pandas as pd\n",
    "create_df = pd.DataFrame()\n",
    "create_df['year'] = year\n",
    "create_df['citation'] = cit\n",
    "create_df.to_csv('Citation2003-2021.csv')\n",
    "citations = create_df\n",
    "create_df"
   ]
  },
  {
   "cell_type": "markdown",
   "metadata": {
    "id": "mDs8ETNWII8b"
   },
   "source": [
    "## 6.Train Arima to predict the 2018 to 2020 citation"
   ]
  },
  {
   "cell_type": "markdown",
   "metadata": {
    "id": "mtKVVs6wGXwc"
   },
   "source": [
    "### 6.1 Train Arima Model\n",
    " <div class=\"alert alert-block alert-info\">\n",
    "\n",
    "**Code**: \n",
    "    You will need to use the create_df and then perform the\n",
    "Arima training with parameter of $p=1$, $q=1$ and $d=1$ on data from 2003 to 2017 (15 years)\n",
    "    <br>\n",
    "    *Keep the outputs for code in your notebook.\n",
    "</div>"
   ]
  },
  {
   "cell_type": "code",
   "execution_count": null,
   "metadata": {
    "id": "cac_yDchN1s9"
   },
   "outputs": [],
   "source": [
    "import pandas as pd\n",
    "from pandas import datetime\n",
    "from statsmodels.tsa.arima_model import ARIMA\n",
    "# pd.options.plotting.backend = \"plotly\"\n",
    "import warnings"
   ]
  },
  {
   "cell_type": "code",
   "execution_count": null,
   "metadata": {
    "colab": {
     "base_uri": "https://localhost:8080/"
    },
    "id": "H5gyp3obhDXd",
    "outputId": "adbf622e-4e32-40cb-923f-ec7c08607218"
   },
   "outputs": [
    {
     "name": "stdout",
     "output_type": "stream",
     "text": [
      "                             ARIMA Model Results                              \n",
      "==============================================================================\n",
      "Dep. Variable:             D.citation   No. Observations:                   14\n",
      "Model:                 ARIMA(1, 1, 1)   Log Likelihood                 -61.582\n",
      "Method:                       css-mle   S.D. of innovations             19.354\n",
      "Date:                Sun, 16 May 2021   AIC                            131.164\n",
      "Time:                        14:30:56   BIC                            133.720\n",
      "Sample:                             1   HQIC                           130.927\n",
      "                                                                              \n",
      "====================================================================================\n",
      "                       coef    std err          z      P>|z|      [0.025      0.975]\n",
      "------------------------------------------------------------------------------------\n",
      "const               27.0010     13.465      2.005      0.070       0.609      53.393\n",
      "ar.L1.D.citation     0.8058      0.239      3.377      0.006       0.338       1.273\n",
      "ma.L1.D.citation    -0.3805      0.323     -1.178      0.264      -1.014       0.253\n",
      "                                    Roots                                    \n",
      "=============================================================================\n",
      "                  Real          Imaginary           Modulus         Frequency\n",
      "-----------------------------------------------------------------------------\n",
      "AR.1            1.2409           +0.0000j            1.2409            0.0000\n",
      "MA.1            2.6282           +0.0000j            2.6282            0.0000\n",
      "-----------------------------------------------------------------------------\n"
     ]
    }
   ],
   "source": [
    "# your code to use create_df to split the data into train (year 2003 to 2017) and test\n",
    "Train_df = create_df.loc[create_df['year'] <= '2017']\n",
    "Test_df = create_df.loc[(create_df['year'] > '2017') & (create_df['year'] < '2021')]\n",
    "\n",
    "model = ARIMA(Train_df.citation, order=(1,1,1))\n",
    "model_fit = model.fit(start_ar_lags=3)\n",
    "print(model_fit.summary())\n"
   ]
  },
  {
   "cell_type": "markdown",
   "metadata": {
    "id": "iomydVFJGdFQ"
   },
   "source": [
    "['ye### 6.2 Predicting the citation and Calculate the RMSE\n",
    " <div class=\"alert alert-block alert-info\">\n",
    "\n",
    "**Code**: \n",
    "    you will need to use the trained Arime model to predict the citation on year 2018, 2019 and 2020.\n",
    "You will need to perform the evaluation by comparing the predicted citation from 2018 to 2020 with \n",
    "the true citation from 2018 to 2020 and calculate the RMSE (root mean square error).\n",
    "    <br>\n",
    "    *Keep the outputs for code in your notebook.\n",
    "</div>"
   ]
  },
  {
   "cell_type": "code",
   "execution_count": null,
   "metadata": {
    "id": "Xprj4ebStrbu"
   },
   "outputs": [],
   "source": [
    "import matplotlib.pyplot as plt\n",
    "fc, se, conf = model_fit.forecast(3, alpha=0.05)\n",
    "# Test_df['Forecast'] = fc\n",
    "# Output = pd.merge(create_df,Test_df,how='left',on='year').head(-1).rename(columns={'citation_x': 'Actual'})\n",
    "# Output.plot(x='year',y=['Actual','Forecast'],kind='line')\n",
    "\n",
    "Train_df.set_index('year',inplace=True)\n",
    "Test_df.set_index('year',inplace=True)\n"
   ]
  },
  {
   "cell_type": "code",
   "execution_count": null,
   "metadata": {
    "colab": {
     "base_uri": "https://localhost:8080/"
    },
    "id": "pKQKs9aAvZFx",
    "outputId": "4834138b-6a17-437f-84a0-fb5cfc608c20"
   },
   "outputs": [
    {
     "name": "stdout",
     "output_type": "stream",
     "text": [
      "RMSE -> 203.53307361176672\n"
     ]
    }
   ],
   "source": [
    "# Print the error below by comparing the test and preds:\n",
    "from sklearn.metrics import mean_squared_error\n",
    "import matplotlib.pyplot as plt\n",
    "import numpy as np\n",
    "\n",
    "# Your code to show the performance RMSE\n",
    "def forecast_accuracy(forecast, actual):\n",
    "\n",
    "    rmse = np.mean((forecast - actual)**2)**.5  # RMSE\n",
    "    \n",
    "    return rmse\n",
    "\n",
    "print ('RMSE ->',forecast_accuracy(fc, Test_df.citation))"
   ]
  },
  {
   "cell_type": "markdown",
   "metadata": {
    "id": "Q7k3Savqewxg"
   },
   "source": [
    "### 6.3 Draw the visualization to compare"
   ]
  },
  {
   "cell_type": "markdown",
   "metadata": {
    "id": "JC5xseYSH7ze"
   },
   "source": [
    " <div class=\"alert alert-block alert-info\">\n",
    "\n",
    "**Code**: \n",
    "   You will also need to use matplotlib to draw the line plot with training data from 2013 to 2017,\n",
    "the testing truth, the prediction and also the confidence interval (95%). \n",
    "    <br>\n",
    "    *Keep the outputs for code in your notebook.\n",
    "</div>"
   ]
  },
  {
   "cell_type": "code",
   "execution_count": null,
   "metadata": {
    "colab": {
     "base_uri": "https://localhost:8080/",
     "height": 441
    },
    "id": "ngXdarg2JPnu",
    "outputId": "22d4c7ec-5f95-47e5-cb4d-393538029bbf"
   },
   "outputs": [
    {
     "data": {
      "image/png": "[encoded data removed]",
      "text/plain": [
       "<Figure size 1200x500 with 1 Axes>"
      ]
     },
     "metadata": {
      "needs_background": "light",
      "tags": []
     },
     "output_type": "display_data"
    }
   ],
   "source": [
    "# You code: Visualize as required, the prediction with its confidence interval\n",
    "fc_series = pd.Series(fc, index=Test_df.index)\n",
    "lower_series = pd.Series(conf[:, 0], index=Test_df.index)\n",
    "upper_series = pd.Series(conf[:, 1], index=Test_df.index)\n",
    "\n",
    "# Plot\n",
    "plt.figure(figsize=(12,5), dpi=100)\n",
    "plt.plot(Train_df.citation, label='Training')\n",
    "plt.plot(Test_df.citation, label='Testing')\n",
    "plt.plot(fc_series, label='Forecast')\n",
    "plt.fill_between(lower_series.index, lower_series, upper_series, \n",
    "                 color='k', alpha=.15)\n",
    "plt.title('Forecast vs Actuals')\n",
    "plt.legend(loc='upper left', fontsize=8)\n",
    "plt.show()"
   ]
  },
  {
   "cell_type": "markdown",
   "metadata": {
    "id": "4Qhi7QJhPenf"
   },
   "source": [
    "## 7.Conduct the Grid Search with paramter selection and then predict the 2021 and 2022"
   ]
  },
  {
   "cell_type": "markdown",
   "metadata": {
    "id": "ie6-3EY_IdT3"
   },
   "source": [
    "### 7.1 Grid Search\n",
    " <div class=\"alert alert-block alert-info\">\n",
    "\n",
    "**Code**: \n",
    "  You will need to run the grid search for parameter $p=[1,2]$, \n",
    "$q=[1,2]$,\n",
    "$d=[1,2]$\n",
    "with training data on year 2003 to 2017 and testing data on 2018 to 2020\n",
    "The result of the search on each paratemer combination (eg: p=1,q=1,d=1)\n",
    "will need to be stored in the \"search-results.csv\",\n",
    "The search-results.csv will have the column of \"RMSE\" and column \"PARAMETER\".\n",
    "    <br>\n",
    "    *Keep the outputs for code in your notebook.\n",
    "</div>"
   ]
  },
  {
   "cell_type": "code",
   "execution_count": null,
   "metadata": {
    "id": "qBMMn_m6PFsT"
   },
   "outputs": [],
   "source": [
    "# your code to run grid search\n",
    "p = list(range(1,3))\n",
    "q = list(range(1,3))\n",
    "d = list(range(1,3))\n",
    "RMSE = []\n",
    "PARAMETER = []\n",
    "\n",
    "def evaluate_arima_model(Train_df, Test_df, arima_order):\n",
    "  model = ARIMA(Train_df.citation, order=arima_order)\n",
    "  model_fit = model.fit(start_ar_lags=3)\n",
    "  fc, se, conf = model_fit.forecast(3, alpha=0.05)\n",
    "  fc_series = pd.Series(fc, index=Test_df.index)\n",
    "  rmse = np.mean((fc_series - Test_df.citation)**2)**.5\n",
    "  return rmse\n",
    "\n",
    "def evaluate_models(Train_df, Test_df, p_values, d_values, q_values):\n",
    "  best_score, best_cfg = float(\"inf\"), None\n",
    "  for p in p_values:\n",
    "    for d in d_values:\n",
    "      for q in q_values:\n",
    "        order = (p,d,q)\n",
    "        try:\n",
    "          rmse = evaluate_arima_model(Train_df, Test_df, order)\n",
    "          RMSE.append(rmse)\n",
    "          PARAMETER.append(order)\n",
    "          if rmse < best_score:\n",
    "            best_score, best_cfg = rmse, order\n",
    "          # print('ARIMA%s RMSE=%.3f' % (order,rmse))\n",
    "        except:\n",
    "          continue\n",
    "  # print('Best ARIMA%s RMSE=%.3f' % (best_cfg, best_score))\n",
    "  return best_cfg  \n",
    "\n",
    "warnings.filterwarnings(\"ignore\")\n",
    "best_cfg = evaluate_models(Train_df, Test_df, p, d, q)"
   ]
  },
  {
   "cell_type": "code",
   "execution_count": null,
   "metadata": {
    "colab": {
     "base_uri": "https://localhost:8080/",
     "height": 235
    },
    "id": "1CkGDjBjPMGy",
    "outputId": "0b74f17b-e70e-4a70-fe49-5e2f286d4eeb"
   },
   "outputs": [
    {
     "data": {
      "text/html": [
       "<div>\n",
       "<style scoped>\n",
       "    .dataframe tbody tr th:only-of-type {\n",
       "        vertical-align: middle;\n",
       "    }\n",
       "\n",
       "    .dataframe tbody tr th {\n",
       "        vertical-align: top;\n",
       "    }\n",
       "\n",
       "    .dataframe thead th {\n",
       "        text-align: right;\n",
       "    }\n",
       "</style>\n",
       "<table border=\"1\" class=\"dataframe\">\n",
       "  <thead>\n",
       "    <tr style=\"text-align: right;\">\n",
       "      <th></th>\n",
       "      <th>RMSE</th>\n",
       "      <th>Parameter</th>\n",
       "    </tr>\n",
       "  </thead>\n",
       "  <tbody>\n",
       "    <tr>\n",
       "      <th>0</th>\n",
       "      <td>203.533074</td>\n",
       "      <td>(1, 1, 1)</td>\n",
       "    </tr>\n",
       "    <tr>\n",
       "      <th>1</th>\n",
       "      <td>205.813224</td>\n",
       "      <td>(1, 1, 2)</td>\n",
       "    </tr>\n",
       "    <tr>\n",
       "      <th>2</th>\n",
       "      <td>143.258927</td>\n",
       "      <td>(1, 2, 1)</td>\n",
       "    </tr>\n",
       "    <tr>\n",
       "      <th>3</th>\n",
       "      <td>129.407931</td>\n",
       "      <td>(1, 2, 2)</td>\n",
       "    </tr>\n",
       "    <tr>\n",
       "      <th>4</th>\n",
       "      <td>213.522045</td>\n",
       "      <td>(2, 1, 1)</td>\n",
       "    </tr>\n",
       "    <tr>\n",
       "      <th>5</th>\n",
       "      <td>227.328358</td>\n",
       "      <td>(2, 1, 2)</td>\n",
       "    </tr>\n",
       "  </tbody>\n",
       "</table>\n",
       "</div>"
      ],
      "text/plain": [
       "         RMSE  Parameter\n",
       "0  203.533074  (1, 1, 1)\n",
       "1  205.813224  (1, 1, 2)\n",
       "2  143.258927  (1, 2, 1)\n",
       "3  129.407931  (1, 2, 2)\n",
       "4  213.522045  (2, 1, 1)\n",
       "5  227.328358  (2, 1, 2)"
      ]
     },
     "execution_count": 122,
     "metadata": {
      "tags": []
     },
     "output_type": "execute_result"
    }
   ],
   "source": [
    "# your code to generate the seach-results.csv and print the top 6 rows\n",
    "Results = pd.DataFrame({'RMSE':RMSE,'Parameter':PARAMETER})\n",
    "Results.to_csv('Search_results.csv')\n",
    "Results.head(6)"
   ]
  },
  {
   "cell_type": "markdown",
   "metadata": {
    "id": "CTey6Y9ER0rE"
   },
   "source": [
    "### 7.2 TRAIN With Best Parameter Set with data up to 2020 and Predict the 2021 and 2022"
   ]
  },
  {
   "cell_type": "markdown",
   "metadata": {
    "id": "skoPt98jJTro"
   },
   "source": [
    "<div class=\"alert alert-block alert-info\">\n",
    "\n",
    "**Code**: \n",
    "  You will need to perform the training with Arima on data from 2003 to 2020 with best parameter you have found in last task,\n",
    "and then conduct the prediction for year 2021 and 2022.\n",
    "    <br>\n",
    "    *Keep the outputs for code in your notebook.\n",
    "</div>"
   ]
  },
  {
   "cell_type": "code",
   "execution_count": null,
   "metadata": {
    "id": "zFCnN_lbPP2H"
   },
   "outputs": [],
   "source": [
    "# your code to perform the Arima train on data 2003 to 2020\n",
    "#train = create_df.citation_all.values[:-1]\n",
    "Train_df = create_df.loc[create_df['year'] <= '2020']\n",
    "Train_df.set_index('year',inplace=True)\n",
    "\n",
    "model = ARIMA(Train_df.citation, order= best_cfg)\n",
    "model_fit = model.fit(start_ar_lags=3)\n",
    "\n",
    "# Your code to predict for 2021 and 2022\n",
    "\n",
    "fc, se, conf = model_fit.forecast(2, alpha=0.05)"
   ]
  },
  {
   "cell_type": "markdown",
   "metadata": {
    "id": "F3TCMUg1JyNj"
   },
   "source": [
    "<div class=\"alert alert-block alert-info\">\n",
    "\n",
    "**Code**: \n",
    "  You will also need to use matplotlib to draw the line plot with training data from 2013 to 2020, the prediction and also the confidence interval (95%).\n",
    "    <br>\n",
    "    *Keep the outputs for code in your notebook.\n",
    "</div>"
   ]
  },
  {
   "cell_type": "code",
   "execution_count": null,
   "metadata": {
    "colab": {
     "base_uri": "https://localhost:8080/",
     "height": 437
    },
    "id": "7oN9OF9UPTYV",
    "outputId": "3fb2835f-7fd4-4932-a5c0-285c8cac1acf"
   },
   "outputs": [
    {
     "data": {
      "image/png": "[encoded data removed]",
      "text/plain": [
       "<Figure size 1200x500 with 1 Axes>"
      ]
     },
     "metadata": {
      "needs_background": "light",
      "tags": []
     },
     "output_type": "display_data"
    }
   ],
   "source": [
    "# Plot the points and the prediction with its confidence interval\n",
    "\n",
    "fc_series = pd.Series(fc, index=['2021','2022'])\n",
    "lower_series = pd.Series(conf[:, 0], index=['2021','2022'])\n",
    "upper_series = pd.Series(conf[:, 1], index=['2021','2022'])\n",
    "\n",
    "# Plot\n",
    "plt.figure(figsize=(12,5), dpi=100)\n",
    "plt.plot(Train_df.citation, label='Training')\n",
    "plt.plot(fc_series, label='Forecast')\n",
    "plt.fill_between(lower_series.index, lower_series, upper_series, \n",
    "                 color='k', alpha=.15)\n",
    "plt.title('Forecast vs Actuals')\n",
    "plt.legend(loc='upper left', fontsize=8)\n",
    "plt.show()"
   ]
  },
  {
   "cell_type": "markdown",
   "metadata": {
    "id": "GaErtNLR5f5v"
   },
   "source": [
    "# Part III - Self-Reflective Essay\n",
    "\n",
    "## Overview\n",
    "\n",
    "Please check the assessment task specification details.\n"
   ]
  }
 ],
 "metadata": {
  "colab": {
   "collapsed_sections": [],
   "name": "SIT742Task2_Final.ipynb",
   "provenance": []
  },
  "kernelspec": {
   "display_name": "Python 3",
   "language": "python",
   "name": "python3"
  },
  "language_info": {
   "codemirror_mode": {
    "name": "ipython",
    "version": 3
   },
   "file_extension": ".py",
   "mimetype": "text/x-python",
   "name": "python",
   "nbconvert_exporter": "python",
   "pygments_lexer": "ipython3",
   "version": "3.8.5"
  }
 },
 "nbformat": 4,
 "nbformat_minor": 1
}
